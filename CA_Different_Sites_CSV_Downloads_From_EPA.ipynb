{
 "cells": [
  {
   "cell_type": "markdown",
   "metadata": {},
   "source": [
    "### Code for EPA AQS API call practice\n",
    "#### The CSV files for Clovis, Madera, Table Mountain, Cocoran, Sacramento 1309 T Street, Woodland, "
   ]
  },
  {
   "cell_type": "code",
   "execution_count": 1,
   "metadata": {},
   "outputs": [],
   "source": [
    "import json\n",
    "import requests\n",
    "import numpy as np\n",
    "from datetime import datetime\n",
    "import time\n",
    "import unicodecsv as csv"
   ]
  },
  {
   "cell_type": "code",
   "execution_count": 19,
   "metadata": {},
   "outputs": [],
   "source": [
    "# Put in the email and key used to register for the EPA API\n",
    "my_email='laarterb@syr.edu'\n",
    "my_key='rubyswift75'\n",
    "yearlist=['2013','2014','2015','2016','2017','2018','2019','2020','2021']"
   ]
  },
  {
   "cell_type": "code",
   "execution_count": 89,
   "metadata": {},
   "outputs": [
    {
     "name": "stdout",
     "output_type": "stream",
     "text": [
      "https://aqs.epa.gov/data/api/sampleData/bySite?email=laarterb@syr.edu&key=rubyswift75&param=81102&bdate=20210101&edate=20211231&state=06&county=019&site=5001\n"
     ]
    },
    {
     "name": "stderr",
     "output_type": "stream",
     "text": [
      "IOPub data rate exceeded.\n",
      "The notebook server will temporarily stop sending output\n",
      "to the client in order to avoid crashing it.\n",
      "To change this limit, set the config variable\n",
      "`--NotebookApp.iopub_data_rate_limit`.\n",
      "\n",
      "Current values:\n",
      "NotebookApp.iopub_data_rate_limit=1000000.0 (bytes/sec)\n",
      "NotebookApp.rate_limit_window=3.0 (secs)\n",
      "\n"
     ]
    }
   ],
   "source": [
    "#CLOVIS PM 10#\n",
    "# To build the call\n",
    "# For one site, one year\n",
    "url='https://aqs.epa.gov/data/api/sampleData/bySite?email='+my_email+'&key='+my_key+'&param=81102&bdate=20210101&edate=20211231&state=06&county=019&site=5001'\n",
    "\n",
    "print(url)\n",
    "r = requests.get(url)\n",
    "data_raw = r.json()\n",
    "print(data_raw)"
   ]
  },
  {
   "cell_type": "code",
   "execution_count": 90,
   "metadata": {},
   "outputs": [
    {
     "name": "stdout",
     "output_type": "stream",
     "text": [
      "https://aqs.epa.gov/data/api/sampleData/bySite?email=laarterb@syr.edu&key=rubyswift75&param=88101&bdate=20210101&edate=20211231&state=06&county=019&site=5001\n"
     ]
    },
    {
     "name": "stderr",
     "output_type": "stream",
     "text": [
      "IOPub data rate exceeded.\n",
      "The notebook server will temporarily stop sending output\n",
      "to the client in order to avoid crashing it.\n",
      "To change this limit, set the config variable\n",
      "`--NotebookApp.iopub_data_rate_limit`.\n",
      "\n",
      "Current values:\n",
      "NotebookApp.iopub_data_rate_limit=1000000.0 (bytes/sec)\n",
      "NotebookApp.rate_limit_window=3.0 (secs)\n",
      "\n"
     ]
    }
   ],
   "source": [
    "#CLOVIS PM 2.5#\n",
    "# To build the call\n",
    "# For one site, one year\n",
    "url='https://aqs.epa.gov/data/api/sampleData/bySite?email='+my_email+'&key='+my_key+'&param=88101&bdate=20210101&edate=20211231&state=06&county=019&site=5001'\n",
    "\n",
    "print(url)\n",
    "r = requests.get(url)\n",
    "data_raw = r.json()\n",
    "print(data_raw)"
   ]
  },
  {
   "cell_type": "code",
   "execution_count": 91,
   "metadata": {
    "scrolled": true
   },
   "outputs": [
    {
     "name": "stdout",
     "output_type": "stream",
     "text": [
      "https://aqs.epa.gov/data/api/sampleData/bySite?email=laarterb@syr.edu&key=rubyswift75&param=81102&bdate=20130101&edate=20131231&state=06&county=019&site=5001\n",
      "https://aqs.epa.gov/data/api/sampleData/bySite?email=laarterb@syr.edu&key=rubyswift75&param=81102&bdate=20140101&edate=20141231&state=06&county=019&site=5001\n",
      "https://aqs.epa.gov/data/api/sampleData/bySite?email=laarterb@syr.edu&key=rubyswift75&param=81102&bdate=20150101&edate=20151231&state=06&county=019&site=5001\n",
      "https://aqs.epa.gov/data/api/sampleData/bySite?email=laarterb@syr.edu&key=rubyswift75&param=81102&bdate=20160101&edate=20161231&state=06&county=019&site=5001\n",
      "https://aqs.epa.gov/data/api/sampleData/bySite?email=laarterb@syr.edu&key=rubyswift75&param=81102&bdate=20170101&edate=20171231&state=06&county=019&site=5001\n",
      "https://aqs.epa.gov/data/api/sampleData/bySite?email=laarterb@syr.edu&key=rubyswift75&param=81102&bdate=20180101&edate=20181231&state=06&county=019&site=5001\n",
      "https://aqs.epa.gov/data/api/sampleData/bySite?email=laarterb@syr.edu&key=rubyswift75&param=81102&bdate=20190101&edate=20191231&state=06&county=019&site=5001\n",
      "https://aqs.epa.gov/data/api/sampleData/bySite?email=laarterb@syr.edu&key=rubyswift75&param=81102&bdate=20200101&edate=20201231&state=06&county=019&site=5001\n",
      "https://aqs.epa.gov/data/api/sampleData/bySite?email=laarterb@syr.edu&key=rubyswift75&param=81102&bdate=20210101&edate=20211231&state=06&county=019&site=5001\n"
     ]
    }
   ],
   "source": [
    "#CLOVIS PM 10#\n",
    "# Example to loop through years AND save the data as a csv file:\n",
    "CA_Clovis_PM10='C:/Users/larterburn/Python Notebooks/aqs_site_06-019-5001_81102.csv'  \n",
    "fields=['datetime_local','sample_measurement','latitude','longitude'] \n",
    "\n",
    "with open(CA_Clovis_PM10, 'wb') as csvfile: \n",
    "    csvwriter = csv.writer(csvfile) \n",
    "    csvwriter.writerow(fields) \n",
    "    for y in yearlist:\n",
    "        bdate = y+'0101'\n",
    "        edate = y+'1231'\n",
    "        url='https://aqs.epa.gov/data/api/sampleData/bySite?email='+my_email+'&key='+my_key+'&param=81102&bdate='+bdate+'&edate='+edate+'&state=06&county=019&site=5001'\n",
    "        print (url)\n",
    "        r = requests.get(url)\n",
    "        data_raw = r.json()\n",
    "        if (data_raw[\"Header\"][0][\"rows\"] != 0):\n",
    "         nrows=data_raw[\"Header\"][0][\"rows\"]\n",
    "         for x in range(0,nrows):\n",
    "            temprow=[(data_raw[\"Data\"][x][\"date_local\"]+' '+data_raw[\"Data\"][x][\"time_local\"]),\\\n",
    "                     data_raw[\"Data\"][x][\"sample_measurement\"],data_raw[\"Data\"][x][\"latitude\"],\\\n",
    "                     data_raw[\"Data\"][x][\"longitude\"]]\n",
    "            csvwriter.writerow(temprow)\n"
   ]
  },
  {
   "cell_type": "code",
   "execution_count": 92,
   "metadata": {
    "scrolled": true
   },
   "outputs": [
    {
     "name": "stdout",
     "output_type": "stream",
     "text": [
      "https://aqs.epa.gov/data/api/sampleData/bySite?email=laarterb@syr.edu&key=rubyswift75&param=88101&bdate=20130101&edate=20131231&state=06&county=019&site=5001\n",
      "https://aqs.epa.gov/data/api/sampleData/bySite?email=laarterb@syr.edu&key=rubyswift75&param=88101&bdate=20140101&edate=20141231&state=06&county=019&site=5001\n",
      "https://aqs.epa.gov/data/api/sampleData/bySite?email=laarterb@syr.edu&key=rubyswift75&param=88101&bdate=20150101&edate=20151231&state=06&county=019&site=5001\n",
      "https://aqs.epa.gov/data/api/sampleData/bySite?email=laarterb@syr.edu&key=rubyswift75&param=88101&bdate=20160101&edate=20161231&state=06&county=019&site=5001\n",
      "https://aqs.epa.gov/data/api/sampleData/bySite?email=laarterb@syr.edu&key=rubyswift75&param=88101&bdate=20170101&edate=20171231&state=06&county=019&site=5001\n",
      "https://aqs.epa.gov/data/api/sampleData/bySite?email=laarterb@syr.edu&key=rubyswift75&param=88101&bdate=20180101&edate=20181231&state=06&county=019&site=5001\n",
      "https://aqs.epa.gov/data/api/sampleData/bySite?email=laarterb@syr.edu&key=rubyswift75&param=88101&bdate=20190101&edate=20191231&state=06&county=019&site=5001\n",
      "https://aqs.epa.gov/data/api/sampleData/bySite?email=laarterb@syr.edu&key=rubyswift75&param=88101&bdate=20200101&edate=20201231&state=06&county=019&site=5001\n",
      "https://aqs.epa.gov/data/api/sampleData/bySite?email=laarterb@syr.edu&key=rubyswift75&param=88101&bdate=20210101&edate=20211231&state=06&county=019&site=5001\n"
     ]
    }
   ],
   "source": [
    "#CLOVIS PM 2.5#\n",
    "# Example to loop through years AND save the data as a csv file:\n",
    "CA_Clovis_PM25 ='C:/Users/larterburn/Python Notebooks/aqs_site_06-019-5001_88101.csv'  # Whatever file name you want to use\n",
    "fields=['datetime_local','sample_measurement','latitude','longitude'] #new file headers\n",
    "\n",
    "with open(CA_Clovis_PM25, 'wb') as csvfile: \n",
    "    csvwriter = csv.writer(csvfile) \n",
    "    csvwriter.writerow(fields) \n",
    "    for y in yearlist:\n",
    "        bdate = y+'0101'\n",
    "        edate = y+'1231'\n",
    "        url='https://aqs.epa.gov/data/api/sampleData/bySite?email='+my_email+'&key='+my_key+'&param=88101&bdate='+bdate+'&edate='+edate+'&state=06&county=019&site=5001'\n",
    "        print (url)\n",
    "        r = requests.get(url)\n",
    "        data_raw = r.json()\n",
    "        if (data_raw[\"Header\"][0][\"rows\"] != 0):\n",
    "         nrows=data_raw[\"Header\"][0][\"rows\"]\n",
    "         for x in range(0,nrows):\n",
    "            temprow=[(data_raw[\"Data\"][x][\"date_local\"]+' '+data_raw[\"Data\"][x][\"time_local\"]),\\\n",
    "                     data_raw[\"Data\"][x][\"sample_measurement\"],data_raw[\"Data\"][x][\"latitude\"],\\\n",
    "                     data_raw[\"Data\"][x][\"longitude\"]]\n",
    "            csvwriter.writerow(temprow)\n",
    "\n",
    "#Directory:(C:\\Users\\larterburn\\Python Notebooks)"
   ]
  },
  {
   "cell_type": "code",
   "execution_count": 93,
   "metadata": {},
   "outputs": [],
   "source": [
    "##MADERA###"
   ]
  },
  {
   "cell_type": "code",
   "execution_count": 94,
   "metadata": {},
   "outputs": [
    {
     "name": "stdout",
     "output_type": "stream",
     "text": [
      "https://aqs.epa.gov/data/api/sampleData/bySite?email=laarterb@syr.edu&key=rubyswift75&param=81102&bdate=20210101&edate=20211231&state=06&county=039&site=2010\n"
     ]
    },
    {
     "name": "stderr",
     "output_type": "stream",
     "text": [
      "IOPub data rate exceeded.\n",
      "The notebook server will temporarily stop sending output\n",
      "to the client in order to avoid crashing it.\n",
      "To change this limit, set the config variable\n",
      "`--NotebookApp.iopub_data_rate_limit`.\n",
      "\n",
      "Current values:\n",
      "NotebookApp.iopub_data_rate_limit=1000000.0 (bytes/sec)\n",
      "NotebookApp.rate_limit_window=3.0 (secs)\n",
      "\n"
     ]
    }
   ],
   "source": [
    "#MADERA PM 10#\n",
    "# To build the call\n",
    "# For one site, one year\n",
    "url='https://aqs.epa.gov/data/api/sampleData/bySite?email='+my_email+'&key='+my_key+'&param=81102&bdate=20210101&edate=20211231&state=06&county=039&site=2010'\n",
    "\n",
    "print(url)\n",
    "r = requests.get(url)\n",
    "data_raw = r.json()\n",
    "print(data_raw)"
   ]
  },
  {
   "cell_type": "code",
   "execution_count": 95,
   "metadata": {},
   "outputs": [
    {
     "name": "stdout",
     "output_type": "stream",
     "text": [
      "https://aqs.epa.gov/data/api/sampleData/bySite?email=laarterb@syr.edu&key=rubyswift75&param=88101&bdate=20210101&edate=20211231&state=06&county=039&site=2010\n"
     ]
    },
    {
     "name": "stderr",
     "output_type": "stream",
     "text": [
      "IOPub data rate exceeded.\n",
      "The notebook server will temporarily stop sending output\n",
      "to the client in order to avoid crashing it.\n",
      "To change this limit, set the config variable\n",
      "`--NotebookApp.iopub_data_rate_limit`.\n",
      "\n",
      "Current values:\n",
      "NotebookApp.iopub_data_rate_limit=1000000.0 (bytes/sec)\n",
      "NotebookApp.rate_limit_window=3.0 (secs)\n",
      "\n"
     ]
    }
   ],
   "source": [
    "#MADERA PM 2.5#\n",
    "# To build the call\n",
    "# For one site, one year\n",
    "url='https://aqs.epa.gov/data/api/sampleData/bySite?email='+my_email+'&key='+my_key+'&param=88101&bdate=20210101&edate=20211231&state=06&county=039&site=2010'\n",
    "\n",
    "print(url)\n",
    "r = requests.get(url)\n",
    "data_raw = r.json()\n",
    "print(data_raw)"
   ]
  },
  {
   "cell_type": "code",
   "execution_count": 96,
   "metadata": {},
   "outputs": [
    {
     "name": "stdout",
     "output_type": "stream",
     "text": [
      "https://aqs.epa.gov/data/api/sampleData/bySite?email=laarterb@syr.edu&key=rubyswift75&param=81102&bdate=20130101&edate=20131231&state=06&county=039&site=2010\n",
      "https://aqs.epa.gov/data/api/sampleData/bySite?email=laarterb@syr.edu&key=rubyswift75&param=81102&bdate=20140101&edate=20141231&state=06&county=039&site=2010\n",
      "https://aqs.epa.gov/data/api/sampleData/bySite?email=laarterb@syr.edu&key=rubyswift75&param=81102&bdate=20150101&edate=20151231&state=06&county=039&site=2010\n",
      "https://aqs.epa.gov/data/api/sampleData/bySite?email=laarterb@syr.edu&key=rubyswift75&param=81102&bdate=20160101&edate=20161231&state=06&county=039&site=2010\n",
      "https://aqs.epa.gov/data/api/sampleData/bySite?email=laarterb@syr.edu&key=rubyswift75&param=81102&bdate=20170101&edate=20171231&state=06&county=039&site=2010\n",
      "https://aqs.epa.gov/data/api/sampleData/bySite?email=laarterb@syr.edu&key=rubyswift75&param=81102&bdate=20180101&edate=20181231&state=06&county=039&site=2010\n",
      "https://aqs.epa.gov/data/api/sampleData/bySite?email=laarterb@syr.edu&key=rubyswift75&param=81102&bdate=20190101&edate=20191231&state=06&county=039&site=2010\n",
      "https://aqs.epa.gov/data/api/sampleData/bySite?email=laarterb@syr.edu&key=rubyswift75&param=81102&bdate=20200101&edate=20201231&state=06&county=039&site=2010\n",
      "https://aqs.epa.gov/data/api/sampleData/bySite?email=laarterb@syr.edu&key=rubyswift75&param=81102&bdate=20210101&edate=20211231&state=06&county=039&site=2010\n"
     ]
    }
   ],
   "source": [
    "#MADERA PM 10#\n",
    "# Example to loop through years AND save the data as a csv file:\n",
    "CA_Madera_PM10='C:/Users/larterburn/Python Notebooks/aqs_site_06-039-2010_81102.csv'  \n",
    "fields=['datetime_local','sample_measurement','latitude','longitude'] \n",
    "\n",
    "with open(CA_Madera_PM10, 'wb') as csvfile: \n",
    "    csvwriter = csv.writer(csvfile) \n",
    "    csvwriter.writerow(fields) \n",
    "    for y in yearlist:\n",
    "        bdate = y+'0101'\n",
    "        edate = y+'1231'\n",
    "        url='https://aqs.epa.gov/data/api/sampleData/bySite?email='+my_email+'&key='+my_key+'&param=81102&bdate='+bdate+'&edate='+edate+'&state=06&county=039&site=2010'\n",
    "        print (url)\n",
    "        r = requests.get(url)\n",
    "        data_raw = r.json()\n",
    "        if (data_raw[\"Header\"][0][\"rows\"] != 0):\n",
    "         nrows=data_raw[\"Header\"][0][\"rows\"]\n",
    "         for x in range(0,nrows):\n",
    "            temprow=[(data_raw[\"Data\"][x][\"date_local\"]+' '+data_raw[\"Data\"][x][\"time_local\"]),\\\n",
    "                     data_raw[\"Data\"][x][\"sample_measurement\"],data_raw[\"Data\"][x][\"latitude\"],\\\n",
    "                     data_raw[\"Data\"][x][\"longitude\"]]\n",
    "            csvwriter.writerow(temprow)\n"
   ]
  },
  {
   "cell_type": "code",
   "execution_count": 97,
   "metadata": {},
   "outputs": [
    {
     "name": "stdout",
     "output_type": "stream",
     "text": [
      "https://aqs.epa.gov/data/api/sampleData/bySite?email=laarterb@syr.edu&key=rubyswift75&param=88101&bdate=20130101&edate=20131231&state=06&county=039&site=2010\n",
      "https://aqs.epa.gov/data/api/sampleData/bySite?email=laarterb@syr.edu&key=rubyswift75&param=88101&bdate=20140101&edate=20141231&state=06&county=039&site=2010\n",
      "https://aqs.epa.gov/data/api/sampleData/bySite?email=laarterb@syr.edu&key=rubyswift75&param=88101&bdate=20150101&edate=20151231&state=06&county=039&site=2010\n",
      "https://aqs.epa.gov/data/api/sampleData/bySite?email=laarterb@syr.edu&key=rubyswift75&param=88101&bdate=20160101&edate=20161231&state=06&county=039&site=2010\n",
      "https://aqs.epa.gov/data/api/sampleData/bySite?email=laarterb@syr.edu&key=rubyswift75&param=88101&bdate=20170101&edate=20171231&state=06&county=039&site=2010\n",
      "https://aqs.epa.gov/data/api/sampleData/bySite?email=laarterb@syr.edu&key=rubyswift75&param=88101&bdate=20180101&edate=20181231&state=06&county=039&site=2010\n",
      "https://aqs.epa.gov/data/api/sampleData/bySite?email=laarterb@syr.edu&key=rubyswift75&param=88101&bdate=20190101&edate=20191231&state=06&county=039&site=2010\n",
      "https://aqs.epa.gov/data/api/sampleData/bySite?email=laarterb@syr.edu&key=rubyswift75&param=88101&bdate=20200101&edate=20201231&state=06&county=039&site=2010\n",
      "https://aqs.epa.gov/data/api/sampleData/bySite?email=laarterb@syr.edu&key=rubyswift75&param=88101&bdate=20210101&edate=20211231&state=06&county=039&site=2010\n"
     ]
    }
   ],
   "source": [
    "#MADERA PM 2.5#\n",
    "# Example to loop through years AND save the data as a csv file:\n",
    "CA_Madera_PM25='C:/Users/larterburn/Python Notebooks/aqs_site_06-039-2010_88101.csv'  \n",
    "fields=['datetime_local','sample_measurement','latitude','longitude'] \n",
    "\n",
    "with open(CA_Madera_PM25, 'wb') as csvfile: \n",
    "    csvwriter = csv.writer(csvfile) \n",
    "    csvwriter.writerow(fields) \n",
    "    for y in yearlist:\n",
    "        bdate = y+'0101'\n",
    "        edate = y+'1231'\n",
    "        url='https://aqs.epa.gov/data/api/sampleData/bySite?email='+my_email+'&key='+my_key+'&param=88101&bdate='+bdate+'&edate='+edate+'&state=06&county=039&site=2010'\n",
    "        print (url)\n",
    "        r = requests.get(url)\n",
    "        data_raw = r.json()\n",
    "        if (data_raw[\"Header\"][0][\"rows\"] != 0):\n",
    "         nrows=data_raw[\"Header\"][0][\"rows\"]\n",
    "         for x in range(0,nrows):\n",
    "            temprow=[(data_raw[\"Data\"][x][\"date_local\"]+' '+data_raw[\"Data\"][x][\"time_local\"]),\\\n",
    "                     data_raw[\"Data\"][x][\"sample_measurement\"],data_raw[\"Data\"][x][\"latitude\"],\\\n",
    "                     data_raw[\"Data\"][x][\"longitude\"]]\n",
    "            csvwriter.writerow(temprow)\n"
   ]
  },
  {
   "cell_type": "code",
   "execution_count": 98,
   "metadata": {},
   "outputs": [],
   "source": [
    "###Table Mountain###"
   ]
  },
  {
   "cell_type": "code",
   "execution_count": 99,
   "metadata": {},
   "outputs": [
    {
     "name": "stdout",
     "output_type": "stream",
     "text": [
      "https://aqs.epa.gov/data/api/sampleData/bySite?email=laarterb@syr.edu&key=rubyswift75&param=81102&bdate=20210101&edate=20211231&state=06&county=019&site=0500\n"
     ]
    },
    {
     "name": "stderr",
     "output_type": "stream",
     "text": [
      "IOPub data rate exceeded.\n",
      "The notebook server will temporarily stop sending output\n",
      "to the client in order to avoid crashing it.\n",
      "To change this limit, set the config variable\n",
      "`--NotebookApp.iopub_data_rate_limit`.\n",
      "\n",
      "Current values:\n",
      "NotebookApp.iopub_data_rate_limit=1000000.0 (bytes/sec)\n",
      "NotebookApp.rate_limit_window=3.0 (secs)\n",
      "\n"
     ]
    }
   ],
   "source": [
    "#TM PM 10#\n",
    "# To build the call\n",
    "# For one site, one year\n",
    "url='https://aqs.epa.gov/data/api/sampleData/bySite?email='+my_email+'&key='+my_key+'&param=81102&bdate=20210101&edate=20211231&state=06&county=019&site=0500'\n",
    "\n",
    "print(url)\n",
    "r = requests.get(url)\n",
    "data_raw = r.json()\n",
    "print(data_raw)"
   ]
  },
  {
   "cell_type": "code",
   "execution_count": 100,
   "metadata": {},
   "outputs": [
    {
     "name": "stdout",
     "output_type": "stream",
     "text": [
      "https://aqs.epa.gov/data/api/sampleData/bySite?email=laarterb@syr.edu&key=rubyswift75&param=88101&bdate=20210101&edate=20211231&state=06&county=019&site=0500\n"
     ]
    },
    {
     "name": "stderr",
     "output_type": "stream",
     "text": [
      "IOPub data rate exceeded.\n",
      "The notebook server will temporarily stop sending output\n",
      "to the client in order to avoid crashing it.\n",
      "To change this limit, set the config variable\n",
      "`--NotebookApp.iopub_data_rate_limit`.\n",
      "\n",
      "Current values:\n",
      "NotebookApp.iopub_data_rate_limit=1000000.0 (bytes/sec)\n",
      "NotebookApp.rate_limit_window=3.0 (secs)\n",
      "\n"
     ]
    }
   ],
   "source": [
    "#TM PM 2.5\n",
    "# To build the call\n",
    "# For one site, one year\n",
    "url='https://aqs.epa.gov/data/api/sampleData/bySite?email='+my_email+'&key='+my_key+'&param=88101&bdate=20210101&edate=20211231&state=06&county=019&site=0500'\n",
    "\n",
    "print(url)\n",
    "r = requests.get(url)\n",
    "data_raw = r.json()\n",
    "print(data_raw)\n"
   ]
  },
  {
   "cell_type": "code",
   "execution_count": 101,
   "metadata": {},
   "outputs": [
    {
     "name": "stdout",
     "output_type": "stream",
     "text": [
      "https://aqs.epa.gov/data/api/sampleData/bySite?email=laarterb@syr.edu&key=rubyswift75&param=88101&bdate=20130101&edate=20131231&state=06&county=019&site=0500\n",
      "https://aqs.epa.gov/data/api/sampleData/bySite?email=laarterb@syr.edu&key=rubyswift75&param=88101&bdate=20140101&edate=20141231&state=06&county=019&site=0500\n",
      "https://aqs.epa.gov/data/api/sampleData/bySite?email=laarterb@syr.edu&key=rubyswift75&param=88101&bdate=20150101&edate=20151231&state=06&county=019&site=0500\n",
      "https://aqs.epa.gov/data/api/sampleData/bySite?email=laarterb@syr.edu&key=rubyswift75&param=88101&bdate=20160101&edate=20161231&state=06&county=019&site=0500\n",
      "https://aqs.epa.gov/data/api/sampleData/bySite?email=laarterb@syr.edu&key=rubyswift75&param=88101&bdate=20170101&edate=20171231&state=06&county=019&site=0500\n",
      "https://aqs.epa.gov/data/api/sampleData/bySite?email=laarterb@syr.edu&key=rubyswift75&param=88101&bdate=20180101&edate=20181231&state=06&county=019&site=0500\n",
      "https://aqs.epa.gov/data/api/sampleData/bySite?email=laarterb@syr.edu&key=rubyswift75&param=88101&bdate=20190101&edate=20191231&state=06&county=019&site=0500\n",
      "https://aqs.epa.gov/data/api/sampleData/bySite?email=laarterb@syr.edu&key=rubyswift75&param=88101&bdate=20200101&edate=20201231&state=06&county=019&site=0500\n",
      "https://aqs.epa.gov/data/api/sampleData/bySite?email=laarterb@syr.edu&key=rubyswift75&param=88101&bdate=20210101&edate=20211231&state=06&county=019&site=0500\n"
     ]
    }
   ],
   "source": [
    "#TM PM 2.5#\n",
    "# Example to loop through years AND save the data as a csv file:\n",
    "CA_Madera_PM25='C:/Users/larterburn/Python Notebooks/aqs_site_06-019-0500_88101.csv'  \n",
    "fields=['datetime_local','sample_measurement','latitude','longitude'] \n",
    "\n",
    "with open(CA_Madera_PM25, 'wb') as csvfile: \n",
    "    csvwriter = csv.writer(csvfile) \n",
    "    csvwriter.writerow(fields) \n",
    "    for y in yearlist:\n",
    "        bdate = y+'0101'\n",
    "        edate = y+'1231'\n",
    "        url='https://aqs.epa.gov/data/api/sampleData/bySite?email='+my_email+'&key='+my_key+'&param=88101&bdate='+bdate+'&edate='+edate+'&state=06&county=019&site=0500'\n",
    "        print (url)\n",
    "        r = requests.get(url)\n",
    "        data_raw = r.json()\n",
    "        if (data_raw[\"Header\"][0][\"rows\"] != 0):\n",
    "         nrows=data_raw[\"Header\"][0][\"rows\"]\n",
    "         for x in range(0,nrows):\n",
    "            temprow=[(data_raw[\"Data\"][x][\"date_local\"]+' '+data_raw[\"Data\"][x][\"time_local\"]),\\\n",
    "                     data_raw[\"Data\"][x][\"sample_measurement\"],data_raw[\"Data\"][x][\"latitude\"],\\\n",
    "                     data_raw[\"Data\"][x][\"longitude\"]]\n",
    "            csvwriter.writerow(temprow)\n"
   ]
  },
  {
   "cell_type": "code",
   "execution_count": 102,
   "metadata": {
    "scrolled": true
   },
   "outputs": [
    {
     "name": "stdout",
     "output_type": "stream",
     "text": [
      "https://aqs.epa.gov/data/api/sampleData/bySite?email=laarterb@syr.edu&key=rubyswift75&param=81102&bdate=20130101&edate=20131231&state=06&county=019&site=5001\n",
      "https://aqs.epa.gov/data/api/sampleData/bySite?email=laarterb@syr.edu&key=rubyswift75&param=81102&bdate=20140101&edate=20141231&state=06&county=019&site=5001\n",
      "https://aqs.epa.gov/data/api/sampleData/bySite?email=laarterb@syr.edu&key=rubyswift75&param=81102&bdate=20150101&edate=20151231&state=06&county=019&site=5001\n",
      "https://aqs.epa.gov/data/api/sampleData/bySite?email=laarterb@syr.edu&key=rubyswift75&param=81102&bdate=20160101&edate=20161231&state=06&county=019&site=5001\n",
      "https://aqs.epa.gov/data/api/sampleData/bySite?email=laarterb@syr.edu&key=rubyswift75&param=81102&bdate=20170101&edate=20171231&state=06&county=019&site=5001\n",
      "https://aqs.epa.gov/data/api/sampleData/bySite?email=laarterb@syr.edu&key=rubyswift75&param=81102&bdate=20180101&edate=20181231&state=06&county=019&site=5001\n",
      "https://aqs.epa.gov/data/api/sampleData/bySite?email=laarterb@syr.edu&key=rubyswift75&param=81102&bdate=20190101&edate=20191231&state=06&county=019&site=5001\n",
      "https://aqs.epa.gov/data/api/sampleData/bySite?email=laarterb@syr.edu&key=rubyswift75&param=81102&bdate=20200101&edate=20201231&state=06&county=019&site=5001\n",
      "https://aqs.epa.gov/data/api/sampleData/bySite?email=laarterb@syr.edu&key=rubyswift75&param=81102&bdate=20210101&edate=20211231&state=06&county=019&site=5001\n"
     ]
    }
   ],
   "source": [
    "#TM PM 10#\n",
    "# Example to loop through years AND save the data as a csv file:\n",
    "CA_TM_PM10='C:/Users/larterburn/Python Notebooks/aqs_site_06-019-0500_81102.csv'  \n",
    "fields=['datetime_local','sample_measurement','latitude','longitude'] \n",
    "\n",
    "with open(CA_TM_PM10, 'wb') as csvfile: \n",
    "    csvwriter = csv.writer(csvfile) \n",
    "    csvwriter.writerow(fields) \n",
    "    for y in yearlist:\n",
    "        bdate = y+'0101'\n",
    "        edate = y+'1231'\n",
    "        url='https://aqs.epa.gov/data/api/sampleData/bySite?email='+my_email+'&key='+my_key+'&param=81102&bdate='+bdate+'&edate='+edate+'&state=06&county=019&site=5001'\n",
    "        print (url)\n",
    "        r = requests.get(url)\n",
    "        data_raw = r.json()\n",
    "        if (data_raw[\"Header\"][0][\"rows\"] != 0):\n",
    "         nrows=data_raw[\"Header\"][0][\"rows\"]\n",
    "         for x in range(0,nrows):\n",
    "            temprow=[(data_raw[\"Data\"][x][\"date_local\"]+' '+data_raw[\"Data\"][x][\"time_local\"]),\\\n",
    "                     data_raw[\"Data\"][x][\"sample_measurement\"],data_raw[\"Data\"][x][\"latitude\"],\\\n",
    "                     data_raw[\"Data\"][x][\"longitude\"]]\n",
    "            csvwriter.writerow(temprow)\n"
   ]
  },
  {
   "cell_type": "code",
   "execution_count": 103,
   "metadata": {},
   "outputs": [],
   "source": [
    "###Cocoran###"
   ]
  },
  {
   "cell_type": "code",
   "execution_count": 104,
   "metadata": {},
   "outputs": [
    {
     "name": "stdout",
     "output_type": "stream",
     "text": [
      "https://aqs.epa.gov/data/api/sampleData/bySite?email=laarterb@syr.edu&key=rubyswift75&param=81102&bdate=20210101&edate=20211231&state=06&county=031&site=0004\n"
     ]
    },
    {
     "name": "stderr",
     "output_type": "stream",
     "text": [
      "IOPub data rate exceeded.\n",
      "The notebook server will temporarily stop sending output\n",
      "to the client in order to avoid crashing it.\n",
      "To change this limit, set the config variable\n",
      "`--NotebookApp.iopub_data_rate_limit`.\n",
      "\n",
      "Current values:\n",
      "NotebookApp.iopub_data_rate_limit=1000000.0 (bytes/sec)\n",
      "NotebookApp.rate_limit_window=3.0 (secs)\n",
      "\n"
     ]
    }
   ],
   "source": [
    "#Cocoran PM 10#\n",
    "# To build the call\n",
    "# For one site, one year\n",
    "url='https://aqs.epa.gov/data/api/sampleData/bySite?email='+my_email+'&key='+my_key+'&param=81102&bdate=20210101&edate=20211231&state=06&county=031&site=0004'\n",
    "\n",
    "print(url)\n",
    "r = requests.get(url)\n",
    "data_raw = r.json()\n",
    "print(data_raw)"
   ]
  },
  {
   "cell_type": "code",
   "execution_count": 105,
   "metadata": {
    "scrolled": true
   },
   "outputs": [
    {
     "name": "stdout",
     "output_type": "stream",
     "text": [
      "https://aqs.epa.gov/data/api/sampleData/bySite?email=laarterb@syr.edu&key=rubyswift75&param=88101&bdate=20210101&edate=20211231&state=06&county=031&site=0004\n"
     ]
    },
    {
     "name": "stderr",
     "output_type": "stream",
     "text": [
      "IOPub data rate exceeded.\n",
      "The notebook server will temporarily stop sending output\n",
      "to the client in order to avoid crashing it.\n",
      "To change this limit, set the config variable\n",
      "`--NotebookApp.iopub_data_rate_limit`.\n",
      "\n",
      "Current values:\n",
      "NotebookApp.iopub_data_rate_limit=1000000.0 (bytes/sec)\n",
      "NotebookApp.rate_limit_window=3.0 (secs)\n",
      "\n"
     ]
    }
   ],
   "source": [
    "#Cocoran PM 2.5\n",
    "# To build the call\n",
    "# For one site, one year\n",
    "url='https://aqs.epa.gov/data/api/sampleData/bySite?email='+my_email+'&key='+my_key+'&param=88101&bdate=20210101&edate=20211231&state=06&county=031&site=0004'\n",
    "\n",
    "print(url)\n",
    "r = requests.get(url)\n",
    "data_raw = r.json()\n",
    "print(data_raw)"
   ]
  },
  {
   "cell_type": "code",
   "execution_count": 106,
   "metadata": {},
   "outputs": [
    {
     "name": "stdout",
     "output_type": "stream",
     "text": [
      "https://aqs.epa.gov/data/api/sampleData/bySite?email=laarterb@syr.edu&key=rubyswift75&param=88101&bdate=20130101&edate=20131231&state=06&county=031&site=0004\n",
      "https://aqs.epa.gov/data/api/sampleData/bySite?email=laarterb@syr.edu&key=rubyswift75&param=88101&bdate=20140101&edate=20141231&state=06&county=031&site=0004\n",
      "https://aqs.epa.gov/data/api/sampleData/bySite?email=laarterb@syr.edu&key=rubyswift75&param=88101&bdate=20150101&edate=20151231&state=06&county=031&site=0004\n",
      "https://aqs.epa.gov/data/api/sampleData/bySite?email=laarterb@syr.edu&key=rubyswift75&param=88101&bdate=20160101&edate=20161231&state=06&county=031&site=0004\n",
      "https://aqs.epa.gov/data/api/sampleData/bySite?email=laarterb@syr.edu&key=rubyswift75&param=88101&bdate=20170101&edate=20171231&state=06&county=031&site=0004\n",
      "https://aqs.epa.gov/data/api/sampleData/bySite?email=laarterb@syr.edu&key=rubyswift75&param=88101&bdate=20180101&edate=20181231&state=06&county=031&site=0004\n",
      "https://aqs.epa.gov/data/api/sampleData/bySite?email=laarterb@syr.edu&key=rubyswift75&param=88101&bdate=20190101&edate=20191231&state=06&county=031&site=0004\n",
      "https://aqs.epa.gov/data/api/sampleData/bySite?email=laarterb@syr.edu&key=rubyswift75&param=88101&bdate=20200101&edate=20201231&state=06&county=031&site=0004\n",
      "https://aqs.epa.gov/data/api/sampleData/bySite?email=laarterb@syr.edu&key=rubyswift75&param=88101&bdate=20210101&edate=20211231&state=06&county=031&site=0004\n"
     ]
    }
   ],
   "source": [
    "#TM PM 2.5#\n",
    "# Example to loop through years AND save the data as a csv file:\n",
    "CA_Cocoran_PM25='C:/Users/larterburn/Python Notebooks/aqs_site_06-031-0004_88101.csv'  \n",
    "fields=['datetime_local','sample_measurement','latitude','longitude'] \n",
    "\n",
    "with open(CA_Cocoran_PM25, 'wb') as csvfile: \n",
    "    csvwriter = csv.writer(csvfile) \n",
    "    csvwriter.writerow(fields) \n",
    "    for y in yearlist:\n",
    "        bdate = y+'0101'\n",
    "        edate = y+'1231'\n",
    "        url='https://aqs.epa.gov/data/api/sampleData/bySite?email='+my_email+'&key='+my_key+'&param=88101&bdate='+bdate+'&edate='+edate+'&state=06&county=031&site=0004'\n",
    "        print (url)\n",
    "        r = requests.get(url)\n",
    "        data_raw = r.json()\n",
    "        if (data_raw[\"Header\"][0][\"rows\"] != 0):\n",
    "         nrows=data_raw[\"Header\"][0][\"rows\"]\n",
    "         for x in range(0,nrows):\n",
    "            temprow=[(data_raw[\"Data\"][x][\"date_local\"]+' '+data_raw[\"Data\"][x][\"time_local\"]),\\\n",
    "                     data_raw[\"Data\"][x][\"sample_measurement\"],data_raw[\"Data\"][x][\"latitude\"],\\\n",
    "                     data_raw[\"Data\"][x][\"longitude\"]]\n",
    "            csvwriter.writerow(temprow)\n"
   ]
  },
  {
   "cell_type": "code",
   "execution_count": 107,
   "metadata": {},
   "outputs": [
    {
     "name": "stdout",
     "output_type": "stream",
     "text": [
      "https://aqs.epa.gov/data/api/sampleData/bySite?email=laarterb@syr.edu&key=rubyswift75&param=81102&bdate=20130101&edate=20131231&state=06&county=031&site=0004\n",
      "https://aqs.epa.gov/data/api/sampleData/bySite?email=laarterb@syr.edu&key=rubyswift75&param=81102&bdate=20140101&edate=20141231&state=06&county=031&site=0004\n",
      "https://aqs.epa.gov/data/api/sampleData/bySite?email=laarterb@syr.edu&key=rubyswift75&param=81102&bdate=20150101&edate=20151231&state=06&county=031&site=0004\n",
      "https://aqs.epa.gov/data/api/sampleData/bySite?email=laarterb@syr.edu&key=rubyswift75&param=81102&bdate=20160101&edate=20161231&state=06&county=031&site=0004\n",
      "https://aqs.epa.gov/data/api/sampleData/bySite?email=laarterb@syr.edu&key=rubyswift75&param=81102&bdate=20170101&edate=20171231&state=06&county=031&site=0004\n",
      "https://aqs.epa.gov/data/api/sampleData/bySite?email=laarterb@syr.edu&key=rubyswift75&param=81102&bdate=20180101&edate=20181231&state=06&county=031&site=0004\n",
      "https://aqs.epa.gov/data/api/sampleData/bySite?email=laarterb@syr.edu&key=rubyswift75&param=81102&bdate=20190101&edate=20191231&state=06&county=031&site=0004\n",
      "https://aqs.epa.gov/data/api/sampleData/bySite?email=laarterb@syr.edu&key=rubyswift75&param=81102&bdate=20200101&edate=20201231&state=06&county=031&site=0004\n",
      "https://aqs.epa.gov/data/api/sampleData/bySite?email=laarterb@syr.edu&key=rubyswift75&param=81102&bdate=20210101&edate=20211231&state=06&county=031&site=0004\n"
     ]
    }
   ],
   "source": [
    "#TM PM 10#\n",
    "# Example to loop through years AND save the data as a csv file:\n",
    "CA_Cocoran_PM10='C:/Users/larterburn/Python Notebooks/aqs_site_06-031-0004_81102.csv'  \n",
    "fields=['datetime_local','sample_measurement','latitude','longitude'] \n",
    "\n",
    "with open(CA_Cocoran_PM10, 'wb') as csvfile: \n",
    "    csvwriter = csv.writer(csvfile) \n",
    "    csvwriter.writerow(fields) \n",
    "    for y in yearlist:\n",
    "        bdate = y+'0101'\n",
    "        edate = y+'1231'\n",
    "        url='https://aqs.epa.gov/data/api/sampleData/bySite?email='+my_email+'&key='+my_key+'&param=81102&bdate='+bdate+'&edate='+edate+'&state=06&county=031&site=0004'\n",
    "        print (url)\n",
    "        r = requests.get(url)\n",
    "        data_raw = r.json()\n",
    "        if (data_raw[\"Header\"][0][\"rows\"] != 0):\n",
    "         nrows=data_raw[\"Header\"][0][\"rows\"]\n",
    "         for x in range(0,nrows):\n",
    "            temprow=[(data_raw[\"Data\"][x][\"date_local\"]+' '+data_raw[\"Data\"][x][\"time_local\"]),\\\n",
    "                     data_raw[\"Data\"][x][\"sample_measurement\"],data_raw[\"Data\"][x][\"latitude\"],\\\n",
    "                     data_raw[\"Data\"][x][\"longitude\"]]\n",
    "            csvwriter.writerow(temprow)\n"
   ]
  },
  {
   "cell_type": "code",
   "execution_count": 108,
   "metadata": {},
   "outputs": [],
   "source": [
    "###SACRAMENTO 1309 T STREET###"
   ]
  },
  {
   "cell_type": "code",
   "execution_count": 109,
   "metadata": {},
   "outputs": [
    {
     "name": "stdout",
     "output_type": "stream",
     "text": [
      "https://aqs.epa.gov/data/api/sampleData/bySite?email=laarterb@syr.edu&key=rubyswift75&param=81102&bdate=20210101&edate=20211231&state=06&county=067&site=0010\n"
     ]
    },
    {
     "name": "stderr",
     "output_type": "stream",
     "text": [
      "IOPub data rate exceeded.\n",
      "The notebook server will temporarily stop sending output\n",
      "to the client in order to avoid crashing it.\n",
      "To change this limit, set the config variable\n",
      "`--NotebookApp.iopub_data_rate_limit`.\n",
      "\n",
      "Current values:\n",
      "NotebookApp.iopub_data_rate_limit=1000000.0 (bytes/sec)\n",
      "NotebookApp.rate_limit_window=3.0 (secs)\n",
      "\n"
     ]
    }
   ],
   "source": [
    "#SAC1309 PM 10#\n",
    "# To build the call\n",
    "# For one site, one year\n",
    "url='https://aqs.epa.gov/data/api/sampleData/bySite?email='+my_email+'&key='+my_key+'&param=81102&bdate=20210101&edate=20211231&state=06&county=067&site=0010'\n",
    "\n",
    "print(url)\n",
    "r = requests.get(url)\n",
    "data_raw = r.json()\n",
    "print(data_raw)"
   ]
  },
  {
   "cell_type": "code",
   "execution_count": 110,
   "metadata": {},
   "outputs": [
    {
     "name": "stdout",
     "output_type": "stream",
     "text": [
      "https://aqs.epa.gov/data/api/sampleData/bySite?email=laarterb@syr.edu&key=rubyswift75&param=88101&bdate=20210101&edate=20211231&state=06&county=067&site=0010\n"
     ]
    },
    {
     "name": "stderr",
     "output_type": "stream",
     "text": [
      "IOPub data rate exceeded.\n",
      "The notebook server will temporarily stop sending output\n",
      "to the client in order to avoid crashing it.\n",
      "To change this limit, set the config variable\n",
      "`--NotebookApp.iopub_data_rate_limit`.\n",
      "\n",
      "Current values:\n",
      "NotebookApp.iopub_data_rate_limit=1000000.0 (bytes/sec)\n",
      "NotebookApp.rate_limit_window=3.0 (secs)\n",
      "\n"
     ]
    }
   ],
   "source": [
    "#SAC1309 PM 2.5\n",
    "# To build the call\n",
    "# For one site, one year\n",
    "url='https://aqs.epa.gov/data/api/sampleData/bySite?email='+my_email+'&key='+my_key+'&param=88101&bdate=20210101&edate=20211231&state=06&county=067&site=0010'\n",
    "\n",
    "print(url)\n",
    "r = requests.get(url)\n",
    "data_raw = r.json()\n",
    "print(data_raw)"
   ]
  },
  {
   "cell_type": "code",
   "execution_count": 111,
   "metadata": {},
   "outputs": [
    {
     "name": "stdout",
     "output_type": "stream",
     "text": [
      "https://aqs.epa.gov/data/api/sampleData/bySite?email=laarterb@syr.edu&key=rubyswift75&param=88101&bdate=20130101&edate=20131231&state=06&county=067&site=0010\n",
      "https://aqs.epa.gov/data/api/sampleData/bySite?email=laarterb@syr.edu&key=rubyswift75&param=88101&bdate=20140101&edate=20141231&state=06&county=067&site=0010\n",
      "https://aqs.epa.gov/data/api/sampleData/bySite?email=laarterb@syr.edu&key=rubyswift75&param=88101&bdate=20150101&edate=20151231&state=06&county=067&site=0010\n",
      "https://aqs.epa.gov/data/api/sampleData/bySite?email=laarterb@syr.edu&key=rubyswift75&param=88101&bdate=20160101&edate=20161231&state=06&county=067&site=0010\n",
      "https://aqs.epa.gov/data/api/sampleData/bySite?email=laarterb@syr.edu&key=rubyswift75&param=88101&bdate=20170101&edate=20171231&state=06&county=067&site=0010\n",
      "https://aqs.epa.gov/data/api/sampleData/bySite?email=laarterb@syr.edu&key=rubyswift75&param=88101&bdate=20180101&edate=20181231&state=06&county=067&site=0010\n",
      "https://aqs.epa.gov/data/api/sampleData/bySite?email=laarterb@syr.edu&key=rubyswift75&param=88101&bdate=20190101&edate=20191231&state=06&county=067&site=0010\n",
      "https://aqs.epa.gov/data/api/sampleData/bySite?email=laarterb@syr.edu&key=rubyswift75&param=88101&bdate=20200101&edate=20201231&state=06&county=067&site=0010\n",
      "https://aqs.epa.gov/data/api/sampleData/bySite?email=laarterb@syr.edu&key=rubyswift75&param=88101&bdate=20210101&edate=20211231&state=06&county=067&site=0010\n"
     ]
    }
   ],
   "source": [
    "#SAC1309 PM 2.5#\n",
    "# Example to loop through years AND save the data as a csv file:\n",
    "CA_SAC1309_PM25='C:/Users/larterburn/Python Notebooks/aqs_site_06-067-0010_88101.csv'  \n",
    "fields=['datetime_local','sample_measurement','latitude','longitude'] \n",
    "\n",
    "with open(CA_SAC1309_PM25, 'wb') as csvfile: \n",
    "    csvwriter = csv.writer(csvfile) \n",
    "    csvwriter.writerow(fields) \n",
    "    for y in yearlist:\n",
    "        bdate = y+'0101'\n",
    "        edate = y+'1231'\n",
    "        url='https://aqs.epa.gov/data/api/sampleData/bySite?email='+my_email+'&key='+my_key+'&param=88101&bdate='+bdate+'&edate='+edate+'&state=06&county=067&site=0010'\n",
    "        print (url)\n",
    "        r = requests.get(url)\n",
    "        data_raw = r.json()\n",
    "        if (data_raw[\"Header\"][0][\"rows\"] != 0):\n",
    "         nrows=data_raw[\"Header\"][0][\"rows\"]\n",
    "         for x in range(0,nrows):\n",
    "            temprow=[(data_raw[\"Data\"][x][\"date_local\"]+' '+data_raw[\"Data\"][x][\"time_local\"]),\\\n",
    "                     data_raw[\"Data\"][x][\"sample_measurement\"],data_raw[\"Data\"][x][\"latitude\"],\\\n",
    "                     data_raw[\"Data\"][x][\"longitude\"]]\n",
    "            csvwriter.writerow(temprow)\n"
   ]
  },
  {
   "cell_type": "code",
   "execution_count": 112,
   "metadata": {},
   "outputs": [
    {
     "name": "stdout",
     "output_type": "stream",
     "text": [
      "https://aqs.epa.gov/data/api/sampleData/bySite?email=laarterb@syr.edu&key=rubyswift75&param=81102&bdate=20130101&edate=20131231&state=06&county=067&site=0010\n",
      "https://aqs.epa.gov/data/api/sampleData/bySite?email=laarterb@syr.edu&key=rubyswift75&param=81102&bdate=20140101&edate=20141231&state=06&county=067&site=0010\n",
      "https://aqs.epa.gov/data/api/sampleData/bySite?email=laarterb@syr.edu&key=rubyswift75&param=81102&bdate=20150101&edate=20151231&state=06&county=067&site=0010\n",
      "https://aqs.epa.gov/data/api/sampleData/bySite?email=laarterb@syr.edu&key=rubyswift75&param=81102&bdate=20160101&edate=20161231&state=06&county=067&site=0010\n",
      "https://aqs.epa.gov/data/api/sampleData/bySite?email=laarterb@syr.edu&key=rubyswift75&param=81102&bdate=20170101&edate=20171231&state=06&county=067&site=0010\n",
      "https://aqs.epa.gov/data/api/sampleData/bySite?email=laarterb@syr.edu&key=rubyswift75&param=81102&bdate=20180101&edate=20181231&state=06&county=067&site=0010\n",
      "https://aqs.epa.gov/data/api/sampleData/bySite?email=laarterb@syr.edu&key=rubyswift75&param=81102&bdate=20190101&edate=20191231&state=06&county=067&site=0010\n",
      "https://aqs.epa.gov/data/api/sampleData/bySite?email=laarterb@syr.edu&key=rubyswift75&param=81102&bdate=20200101&edate=20201231&state=06&county=067&site=0010\n",
      "https://aqs.epa.gov/data/api/sampleData/bySite?email=laarterb@syr.edu&key=rubyswift75&param=81102&bdate=20210101&edate=20211231&state=06&county=067&site=0010\n"
     ]
    }
   ],
   "source": [
    "#SAC1309 PM 10#\n",
    "# Example to loop through years AND save the data as a csv file:\n",
    "CA_SAC1309_PM10='C:/Users/larterburn/Python Notebooks/aqs_site_06-067-0010_81102.csv'  \n",
    "fields=['datetime_local','sample_measurement','latitude','longitude'] \n",
    "\n",
    "with open(CA_SAC1309_PM10, 'wb') as csvfile: \n",
    "    csvwriter = csv.writer(csvfile) \n",
    "    csvwriter.writerow(fields) \n",
    "    for y in yearlist:\n",
    "        bdate = y+'0101'\n",
    "        edate = y+'1231'\n",
    "        url='https://aqs.epa.gov/data/api/sampleData/bySite?email='+my_email+'&key='+my_key+'&param=81102&bdate='+bdate+'&edate='+edate+'&state=06&county=067&site=0010'\n",
    "        print (url)\n",
    "        r = requests.get(url)\n",
    "        data_raw = r.json()\n",
    "        if (data_raw[\"Header\"][0][\"rows\"] != 0):\n",
    "         nrows=data_raw[\"Header\"][0][\"rows\"]\n",
    "         for x in range(0,nrows):\n",
    "            temprow=[(data_raw[\"Data\"][x][\"date_local\"]+' '+data_raw[\"Data\"][x][\"time_local\"]),\\\n",
    "                     data_raw[\"Data\"][x][\"sample_measurement\"],data_raw[\"Data\"][x][\"latitude\"],\\\n",
    "                     data_raw[\"Data\"][x][\"longitude\"]]\n",
    "            csvwriter.writerow(temprow)\n"
   ]
  },
  {
   "cell_type": "code",
   "execution_count": 113,
   "metadata": {},
   "outputs": [],
   "source": [
    "###WOODLAND####"
   ]
  },
  {
   "cell_type": "code",
   "execution_count": 114,
   "metadata": {},
   "outputs": [
    {
     "name": "stdout",
     "output_type": "stream",
     "text": [
      "https://aqs.epa.gov/data/api/sampleData/bySite?email=laarterb@syr.edu&key=rubyswift75&param=88101&bdate=20210101&edate=20211231&state=06&county=113&site=1003\n"
     ]
    },
    {
     "name": "stderr",
     "output_type": "stream",
     "text": [
      "IOPub data rate exceeded.\n",
      "The notebook server will temporarily stop sending output\n",
      "to the client in order to avoid crashing it.\n",
      "To change this limit, set the config variable\n",
      "`--NotebookApp.iopub_data_rate_limit`.\n",
      "\n",
      "Current values:\n",
      "NotebookApp.iopub_data_rate_limit=1000000.0 (bytes/sec)\n",
      "NotebookApp.rate_limit_window=3.0 (secs)\n",
      "\n"
     ]
    }
   ],
   "source": [
    "#Woodland PM 2.5\n",
    "# To build the call\n",
    "# For one site, one year\n",
    "url='https://aqs.epa.gov/data/api/sampleData/bySite?email='+my_email+'&key='+my_key+'&param=88101&bdate=20210101&edate=20211231&state=06&county=113&site=1003'\n",
    "\n",
    "print(url)\n",
    "r = requests.get(url)\n",
    "data_raw = r.json()\n",
    "print(data_raw)"
   ]
  },
  {
   "cell_type": "code",
   "execution_count": 115,
   "metadata": {},
   "outputs": [
    {
     "name": "stdout",
     "output_type": "stream",
     "text": [
      "https://aqs.epa.gov/data/api/sampleData/bySite?email=laarterb@syr.edu&key=rubyswift75&param=81102&bdate=20210101&edate=20211231&state=06&county=113&site=1003\n",
      "{'Header': [{'status': 'Success', 'request_time': '2022-06-22T17:00:41-04:00', 'url': 'https://aqs.epa.gov/data/api/sampleData/bySite?email=laarterb@syr.edu&key=rubyswift75&param=81102&bdate=20210101&edate=20211231&state=06&county=113&site=1003', 'rows': 61}], 'Data': [{'state_code': '06', 'county_code': '113', 'site_number': '1003', 'parameter_code': '81102', 'poc': 1, 'latitude': 38.66121, 'longitude': -121.73269, 'datum': 'WGS84', 'parameter': 'PM10 Total 0-10um STP', 'date_local': '2021-12-30', 'time_local': '00:00', 'date_gmt': '2021-12-30', 'time_gmt': '08:00', 'sample_measurement': 4.0, 'units_of_measure': 'Micrograms/cubic meter (25 C)', 'units_of_measure_code': '001', 'sample_duration': '24 HOUR', 'sample_duration_code': '7', 'sample_frequency': 'EVERY 6TH DAY', 'detection_limit': 2.0, 'uncertainty': None, 'qualifier': None, 'method_type': 'FRM', 'method': 'HI-VOL SA/GMW-1200 - GRAVIMETRIC', 'method_code': '063', 'state': 'California', 'county': 'Yolo', 'date_of_last_change': '2022-02-03', 'cbsa_code': '40900'}, {'state_code': '06', 'county_code': '113', 'site_number': '1003', 'parameter_code': '81102', 'poc': 1, 'latitude': 38.66121, 'longitude': -121.73269, 'datum': 'WGS84', 'parameter': 'PM10 Total 0-10um STP', 'date_local': '2021-12-24', 'time_local': '00:00', 'date_gmt': '2021-12-24', 'time_gmt': '08:00', 'sample_measurement': 4.0, 'units_of_measure': 'Micrograms/cubic meter (25 C)', 'units_of_measure_code': '001', 'sample_duration': '24 HOUR', 'sample_duration_code': '7', 'sample_frequency': 'EVERY 6TH DAY', 'detection_limit': 2.0, 'uncertainty': None, 'qualifier': None, 'method_type': 'FRM', 'method': 'HI-VOL SA/GMW-1200 - GRAVIMETRIC', 'method_code': '063', 'state': 'California', 'county': 'Yolo', 'date_of_last_change': '2022-02-03', 'cbsa_code': '40900'}, {'state_code': '06', 'county_code': '113', 'site_number': '1003', 'parameter_code': '81102', 'poc': 1, 'latitude': 38.66121, 'longitude': -121.73269, 'datum': 'WGS84', 'parameter': 'PM10 Total 0-10um STP', 'date_local': '2021-12-18', 'time_local': '00:00', 'date_gmt': '2021-12-18', 'time_gmt': '08:00', 'sample_measurement': 10.0, 'units_of_measure': 'Micrograms/cubic meter (25 C)', 'units_of_measure_code': '001', 'sample_duration': '24 HOUR', 'sample_duration_code': '7', 'sample_frequency': 'EVERY 6TH DAY', 'detection_limit': 2.0, 'uncertainty': None, 'qualifier': None, 'method_type': 'FRM', 'method': 'HI-VOL SA/GMW-1200 - GRAVIMETRIC', 'method_code': '063', 'state': 'California', 'county': 'Yolo', 'date_of_last_change': '2022-02-03', 'cbsa_code': '40900'}, {'state_code': '06', 'county_code': '113', 'site_number': '1003', 'parameter_code': '81102', 'poc': 1, 'latitude': 38.66121, 'longitude': -121.73269, 'datum': 'WGS84', 'parameter': 'PM10 Total 0-10um STP', 'date_local': '2021-12-12', 'time_local': '00:00', 'date_gmt': '2021-12-12', 'time_gmt': '08:00', 'sample_measurement': 15.0, 'units_of_measure': 'Micrograms/cubic meter (25 C)', 'units_of_measure_code': '001', 'sample_duration': '24 HOUR', 'sample_duration_code': '7', 'sample_frequency': 'EVERY 6TH DAY', 'detection_limit': 2.0, 'uncertainty': None, 'qualifier': 'IJ - High Winds.', 'method_type': 'FRM', 'method': 'HI-VOL SA/GMW-1200 - GRAVIMETRIC', 'method_code': '063', 'state': 'California', 'county': 'Yolo', 'date_of_last_change': '2022-02-03', 'cbsa_code': '40900'}, {'state_code': '06', 'county_code': '113', 'site_number': '1003', 'parameter_code': '81102', 'poc': 1, 'latitude': 38.66121, 'longitude': -121.73269, 'datum': 'WGS84', 'parameter': 'PM10 Total 0-10um STP', 'date_local': '2021-12-06', 'time_local': '00:03', 'date_gmt': '2021-12-06', 'time_gmt': '08:03', 'sample_measurement': 20.0, 'units_of_measure': 'Micrograms/cubic meter (25 C)', 'units_of_measure_code': '001', 'sample_duration': '24 HOUR', 'sample_duration_code': '7', 'sample_frequency': 'EVERY 6TH DAY', 'detection_limit': 2.0, 'uncertainty': None, 'qualifier': None, 'method_type': 'FRM', 'method': 'HI-VOL SA/GMW-1200 - GRAVIMETRIC', 'method_code': '063', 'state': 'California', 'county': 'Yolo', 'date_of_last_change': '2022-02-03', 'cbsa_code': '40900'}, {'state_code': '06', 'county_code': '113', 'site_number': '1003', 'parameter_code': '81102', 'poc': 1, 'latitude': 38.66121, 'longitude': -121.73269, 'datum': 'WGS84', 'parameter': 'PM10 Total 0-10um STP', 'date_local': '2021-11-30', 'time_local': '00:05', 'date_gmt': '2021-11-30', 'time_gmt': '08:05', 'sample_measurement': 21.0, 'units_of_measure': 'Micrograms/cubic meter (25 C)', 'units_of_measure_code': '001', 'sample_duration': '24 HOUR', 'sample_duration_code': '7', 'sample_frequency': 'EVERY 6TH DAY', 'detection_limit': 2.0, 'uncertainty': None, 'qualifier': None, 'method_type': 'FRM', 'method': 'HI-VOL SA/GMW-1200 - GRAVIMETRIC', 'method_code': '063', 'state': 'California', 'county': 'Yolo', 'date_of_last_change': '2022-01-26', 'cbsa_code': '40900'}, {'state_code': '06', 'county_code': '113', 'site_number': '1003', 'parameter_code': '81102', 'poc': 1, 'latitude': 38.66121, 'longitude': -121.73269, 'datum': 'WGS84', 'parameter': 'PM10 Total 0-10um STP', 'date_local': '2021-11-24', 'time_local': '00:00', 'date_gmt': '2021-11-24', 'time_gmt': '08:00', 'sample_measurement': 10.0, 'units_of_measure': 'Micrograms/cubic meter (25 C)', 'units_of_measure_code': '001', 'sample_duration': '24 HOUR', 'sample_duration_code': '7', 'sample_frequency': 'EVERY 6TH DAY', 'detection_limit': 2.0, 'uncertainty': None, 'qualifier': None, 'method_type': 'FRM', 'method': 'HI-VOL SA/GMW-1200 - GRAVIMETRIC', 'method_code': '063', 'state': 'California', 'county': 'Yolo', 'date_of_last_change': '2022-01-26', 'cbsa_code': '40900'}, {'state_code': '06', 'county_code': '113', 'site_number': '1003', 'parameter_code': '81102', 'poc': 1, 'latitude': 38.66121, 'longitude': -121.73269, 'datum': 'WGS84', 'parameter': 'PM10 Total 0-10um STP', 'date_local': '2021-11-18', 'time_local': '00:00', 'date_gmt': '2021-11-18', 'time_gmt': '08:00', 'sample_measurement': 21.0, 'units_of_measure': 'Micrograms/cubic meter (25 C)', 'units_of_measure_code': '001', 'sample_duration': '24 HOUR', 'sample_duration_code': '7', 'sample_frequency': 'EVERY 6TH DAY', 'detection_limit': 2.0, 'uncertainty': None, 'qualifier': None, 'method_type': 'FRM', 'method': 'HI-VOL SA/GMW-1200 - GRAVIMETRIC', 'method_code': '063', 'state': 'California', 'county': 'Yolo', 'date_of_last_change': '2022-01-26', 'cbsa_code': '40900'}, {'state_code': '06', 'county_code': '113', 'site_number': '1003', 'parameter_code': '81102', 'poc': 1, 'latitude': 38.66121, 'longitude': -121.73269, 'datum': 'WGS84', 'parameter': 'PM10 Total 0-10um STP', 'date_local': '2021-11-12', 'time_local': '00:02', 'date_gmt': '2021-11-12', 'time_gmt': '08:02', 'sample_measurement': 12.0, 'units_of_measure': 'Micrograms/cubic meter (25 C)', 'units_of_measure_code': '001', 'sample_duration': '24 HOUR', 'sample_duration_code': '7', 'sample_frequency': 'EVERY 6TH DAY', 'detection_limit': 2.0, 'uncertainty': None, 'qualifier': None, 'method_type': 'FRM', 'method': 'HI-VOL SA/GMW-1200 - GRAVIMETRIC', 'method_code': '063', 'state': 'California', 'county': 'Yolo', 'date_of_last_change': '2022-01-26', 'cbsa_code': '40900'}, {'state_code': '06', 'county_code': '113', 'site_number': '1003', 'parameter_code': '81102', 'poc': 1, 'latitude': 38.66121, 'longitude': -121.73269, 'datum': 'WGS84', 'parameter': 'PM10 Total 0-10um STP', 'date_local': '2021-11-06', 'time_local': '00:00', 'date_gmt': '2021-11-06', 'time_gmt': '08:00', 'sample_measurement': 10.0, 'units_of_measure': 'Micrograms/cubic meter (25 C)', 'units_of_measure_code': '001', 'sample_duration': '24 HOUR', 'sample_duration_code': '7', 'sample_frequency': 'EVERY 6TH DAY', 'detection_limit': 2.0, 'uncertainty': None, 'qualifier': None, 'method_type': 'FRM', 'method': 'HI-VOL SA/GMW-1200 - GRAVIMETRIC', 'method_code': '063', 'state': 'California', 'county': 'Yolo', 'date_of_last_change': '2022-01-26', 'cbsa_code': '40900'}, {'state_code': '06', 'county_code': '113', 'site_number': '1003', 'parameter_code': '81102', 'poc': 1, 'latitude': 38.66121, 'longitude': -121.73269, 'datum': 'WGS84', 'parameter': 'PM10 Total 0-10um STP', 'date_local': '2021-10-31', 'time_local': '00:08', 'date_gmt': '2021-10-31', 'time_gmt': '08:08', 'sample_measurement': 4.0, 'units_of_measure': 'Micrograms/cubic meter (25 C)', 'units_of_measure_code': '001', 'sample_duration': '24 HOUR', 'sample_duration_code': '7', 'sample_frequency': 'EVERY 6TH DAY', 'detection_limit': 2.0, 'uncertainty': None, 'qualifier': None, 'method_type': 'FRM', 'method': 'HI-VOL SA/GMW-1200 - GRAVIMETRIC', 'method_code': '063', 'state': 'California', 'county': 'Yolo', 'date_of_last_change': '2022-01-12', 'cbsa_code': '40900'}, {'state_code': '06', 'county_code': '113', 'site_number': '1003', 'parameter_code': '81102', 'poc': 1, 'latitude': 38.66121, 'longitude': -121.73269, 'datum': 'WGS84', 'parameter': 'PM10 Total 0-10um STP', 'date_local': '2021-10-25', 'time_local': '00:00', 'date_gmt': '2021-10-25', 'time_gmt': '08:00', 'sample_measurement': 5.0, 'units_of_measure': 'Micrograms/cubic meter (25 C)', 'units_of_measure_code': '001', 'sample_duration': '24 HOUR', 'sample_duration_code': '7', 'sample_frequency': 'EVERY 6TH DAY', 'detection_limit': 2.0, 'uncertainty': None, 'qualifier': None, 'method_type': 'FRM', 'method': 'HI-VOL SA/GMW-1200 - GRAVIMETRIC', 'method_code': '063', 'state': 'California', 'county': 'Yolo', 'date_of_last_change': '2022-01-12', 'cbsa_code': '40900'}, {'state_code': '06', 'county_code': '113', 'site_number': '1003', 'parameter_code': '81102', 'poc': 1, 'latitude': 38.66121, 'longitude': -121.73269, 'datum': 'WGS84', 'parameter': 'PM10 Total 0-10um STP', 'date_local': '2021-10-19', 'time_local': '00:00', 'date_gmt': '2021-10-19', 'time_gmt': '08:00', 'sample_measurement': 30.0, 'units_of_measure': 'Micrograms/cubic meter (25 C)', 'units_of_measure_code': '001', 'sample_duration': '24 HOUR', 'sample_duration_code': '7', 'sample_frequency': 'EVERY 6TH DAY', 'detection_limit': 2.0, 'uncertainty': None, 'qualifier': None, 'method_type': 'FRM', 'method': 'HI-VOL SA/GMW-1200 - GRAVIMETRIC', 'method_code': '063', 'state': 'California', 'county': 'Yolo', 'date_of_last_change': '2022-01-12', 'cbsa_code': '40900'}, {'state_code': '06', 'county_code': '113', 'site_number': '1003', 'parameter_code': '81102', 'poc': 1, 'latitude': 38.66121, 'longitude': -121.73269, 'datum': 'WGS84', 'parameter': 'PM10 Total 0-10um STP', 'date_local': '2021-10-13', 'time_local': '00:02', 'date_gmt': '2021-10-13', 'time_gmt': '08:02', 'sample_measurement': 38.0, 'units_of_measure': 'Micrograms/cubic meter (25 C)', 'units_of_measure_code': '001', 'sample_duration': '24 HOUR', 'sample_duration_code': '7', 'sample_frequency': 'EVERY 6TH DAY', 'detection_limit': 2.0, 'uncertainty': None, 'qualifier': None, 'method_type': 'FRM', 'method': 'HI-VOL SA/GMW-1200 - GRAVIMETRIC', 'method_code': '063', 'state': 'California', 'county': 'Yolo', 'date_of_last_change': '2022-01-12', 'cbsa_code': '40900'}, {'state_code': '06', 'county_code': '113', 'site_number': '1003', 'parameter_code': '81102', 'poc': 1, 'latitude': 38.66121, 'longitude': -121.73269, 'datum': 'WGS84', 'parameter': 'PM10 Total 0-10um STP', 'date_local': '2021-10-07', 'time_local': '00:00', 'date_gmt': '2021-10-07', 'time_gmt': '08:00', 'sample_measurement': 29.0, 'units_of_measure': 'Micrograms/cubic meter (25 C)', 'units_of_measure_code': '001', 'sample_duration': '24 HOUR', 'sample_duration_code': '7', 'sample_frequency': 'EVERY 6TH DAY', 'detection_limit': 2.0, 'uncertainty': None, 'qualifier': None, 'method_type': 'FRM', 'method': 'HI-VOL SA/GMW-1200 - GRAVIMETRIC', 'method_code': '063', 'state': 'California', 'county': 'Yolo', 'date_of_last_change': '2022-01-12', 'cbsa_code': '40900'}, {'state_code': '06', 'county_code': '113', 'site_number': '1003', 'parameter_code': '81102', 'poc': 1, 'latitude': 38.66121, 'longitude': -121.73269, 'datum': 'WGS84', 'parameter': 'PM10 Total 0-10um STP', 'date_local': '2021-10-01', 'time_local': '00:00', 'date_gmt': '2021-10-01', 'time_gmt': '08:00', 'sample_measurement': 68.0, 'units_of_measure': 'Micrograms/cubic meter (25 C)', 'units_of_measure_code': '001', 'sample_duration': '24 HOUR', 'sample_duration_code': '7', 'sample_frequency': 'EVERY 6TH DAY', 'detection_limit': 2.0, 'uncertainty': None, 'qualifier': None, 'method_type': 'FRM', 'method': 'HI-VOL SA/GMW-1200 - GRAVIMETRIC', 'method_code': '063', 'state': 'California', 'county': 'Yolo', 'date_of_last_change': '2022-01-12', 'cbsa_code': '40900'}, {'state_code': '06', 'county_code': '113', 'site_number': '1003', 'parameter_code': '81102', 'poc': 1, 'latitude': 38.66121, 'longitude': -121.73269, 'datum': 'WGS84', 'parameter': 'PM10 Total 0-10um STP', 'date_local': '2021-09-25', 'time_local': '00:00', 'date_gmt': '2021-09-25', 'time_gmt': '08:00', 'sample_measurement': 30.0, 'units_of_measure': 'Micrograms/cubic meter (25 C)', 'units_of_measure_code': '001', 'sample_duration': '24 HOUR', 'sample_duration_code': '7', 'sample_frequency': 'EVERY 6TH DAY', 'detection_limit': 2.0, 'uncertainty': None, 'qualifier': None, 'method_type': 'FRM', 'method': 'HI-VOL SA/GMW-1200 - GRAVIMETRIC', 'method_code': '063', 'state': 'California', 'county': 'Yolo', 'date_of_last_change': '2021-11-24', 'cbsa_code': '40900'}, {'state_code': '06', 'county_code': '113', 'site_number': '1003', 'parameter_code': '81102', 'poc': 1, 'latitude': 38.66121, 'longitude': -121.73269, 'datum': 'WGS84', 'parameter': 'PM10 Total 0-10um STP', 'date_local': '2021-09-19', 'time_local': '00:00', 'date_gmt': '2021-09-19', 'time_gmt': '08:00', 'sample_measurement': 12.0, 'units_of_measure': 'Micrograms/cubic meter (25 C)', 'units_of_measure_code': '001', 'sample_duration': '24 HOUR', 'sample_duration_code': '7', 'sample_frequency': 'EVERY 6TH DAY', 'detection_limit': 2.0, 'uncertainty': None, 'qualifier': None, 'method_type': 'FRM', 'method': 'HI-VOL SA/GMW-1200 - GRAVIMETRIC', 'method_code': '063', 'state': 'California', 'county': 'Yolo', 'date_of_last_change': '2021-11-24', 'cbsa_code': '40900'}, {'state_code': '06', 'county_code': '113', 'site_number': '1003', 'parameter_code': '81102', 'poc': 1, 'latitude': 38.66121, 'longitude': -121.73269, 'datum': 'WGS84', 'parameter': 'PM10 Total 0-10um STP', 'date_local': '2021-09-13', 'time_local': '00:00', 'date_gmt': '2021-09-13', 'time_gmt': '08:00', 'sample_measurement': 43.0, 'units_of_measure': 'Micrograms/cubic meter (25 C)', 'units_of_measure_code': '001', 'sample_duration': '24 HOUR', 'sample_duration_code': '7', 'sample_frequency': 'EVERY 6TH DAY', 'detection_limit': 2.0, 'uncertainty': None, 'qualifier': 'IT - Wildfire-U. S.', 'method_type': 'FRM', 'method': 'HI-VOL SA/GMW-1200 - GRAVIMETRIC', 'method_code': '063', 'state': 'California', 'county': 'Yolo', 'date_of_last_change': '2021-11-24', 'cbsa_code': '40900'}, {'state_code': '06', 'county_code': '113', 'site_number': '1003', 'parameter_code': '81102', 'poc': 1, 'latitude': 38.66121, 'longitude': -121.73269, 'datum': 'WGS84', 'parameter': 'PM10 Total 0-10um STP', 'date_local': '2021-09-07', 'time_local': '00:01', 'date_gmt': '2021-09-07', 'time_gmt': '08:01', 'sample_measurement': 58.0, 'units_of_measure': 'Micrograms/cubic meter (25 C)', 'units_of_measure_code': '001', 'sample_duration': '24 HOUR', 'sample_duration_code': '7', 'sample_frequency': 'EVERY 6TH DAY', 'detection_limit': 2.0, 'uncertainty': None, 'qualifier': 'IT - Wildfire-U. S.', 'method_type': 'FRM', 'method': 'HI-VOL SA/GMW-1200 - GRAVIMETRIC', 'method_code': '063', 'state': 'California', 'county': 'Yolo', 'date_of_last_change': '2021-11-24', 'cbsa_code': '40900'}, {'state_code': '06', 'county_code': '113', 'site_number': '1003', 'parameter_code': '81102', 'poc': 1, 'latitude': 38.66121, 'longitude': -121.73269, 'datum': 'WGS84', 'parameter': 'PM10 Total 0-10um STP', 'date_local': '2021-09-01', 'time_local': '00:02', 'date_gmt': '2021-09-01', 'time_gmt': '08:02', 'sample_measurement': 47.0, 'units_of_measure': 'Micrograms/cubic meter (25 C)', 'units_of_measure_code': '001', 'sample_duration': '24 HOUR', 'sample_duration_code': '7', 'sample_frequency': 'EVERY 6TH DAY', 'detection_limit': 2.0, 'uncertainty': None, 'qualifier': 'IT - Wildfire-U. S.', 'method_type': 'FRM', 'method': 'HI-VOL SA/GMW-1200 - GRAVIMETRIC', 'method_code': '063', 'state': 'California', 'county': 'Yolo', 'date_of_last_change': '2021-11-24', 'cbsa_code': '40900'}, {'state_code': '06', 'county_code': '113', 'site_number': '1003', 'parameter_code': '81102', 'poc': 1, 'latitude': 38.66121, 'longitude': -121.73269, 'datum': 'WGS84', 'parameter': 'PM10 Total 0-10um STP', 'date_local': '2021-08-26', 'time_local': '00:01', 'date_gmt': '2021-08-26', 'time_gmt': '08:01', 'sample_measurement': 43.0, 'units_of_measure': 'Micrograms/cubic meter (25 C)', 'units_of_measure_code': '001', 'sample_duration': '24 HOUR', 'sample_duration_code': '7', 'sample_frequency': 'EVERY 6TH DAY', 'detection_limit': 2.0, 'uncertainty': None, 'qualifier': 'IT - Wildfire-U. S.', 'method_type': 'FRM', 'method': 'HI-VOL SA/GMW-1200 - GRAVIMETRIC', 'method_code': '063', 'state': 'California', 'county': 'Yolo', 'date_of_last_change': '2021-10-19', 'cbsa_code': '40900'}, {'state_code': '06', 'county_code': '113', 'site_number': '1003', 'parameter_code': '81102', 'poc': 1, 'latitude': 38.66121, 'longitude': -121.73269, 'datum': 'WGS84', 'parameter': 'PM10 Total 0-10um STP', 'date_local': '2021-08-20', 'time_local': '00:02', 'date_gmt': '2021-08-20', 'time_gmt': '08:02', 'sample_measurement': 59.0, 'units_of_measure': 'Micrograms/cubic meter (25 C)', 'units_of_measure_code': '001', 'sample_duration': '24 HOUR', 'sample_duration_code': '7', 'sample_frequency': 'EVERY 6TH DAY', 'detection_limit': 2.0, 'uncertainty': None, 'qualifier': 'IT - Wildfire-U. S.', 'method_type': 'FRM', 'method': 'HI-VOL SA/GMW-1200 - GRAVIMETRIC', 'method_code': '063', 'state': 'California', 'county': 'Yolo', 'date_of_last_change': '2021-10-19', 'cbsa_code': '40900'}, {'state_code': '06', 'county_code': '113', 'site_number': '1003', 'parameter_code': '81102', 'poc': 1, 'latitude': 38.66121, 'longitude': -121.73269, 'datum': 'WGS84', 'parameter': 'PM10 Total 0-10um STP', 'date_local': '2021-08-14', 'time_local': '00:00', 'date_gmt': '2021-08-14', 'time_gmt': '08:00', 'sample_measurement': 29.0, 'units_of_measure': 'Micrograms/cubic meter (25 C)', 'units_of_measure_code': '001', 'sample_duration': '24 HOUR', 'sample_duration_code': '7', 'sample_frequency': 'EVERY 6TH DAY', 'detection_limit': 2.0, 'uncertainty': None, 'qualifier': None, 'method_type': 'FRM', 'method': 'HI-VOL SA/GMW-1200 - GRAVIMETRIC', 'method_code': '063', 'state': 'California', 'county': 'Yolo', 'date_of_last_change': '2021-10-19', 'cbsa_code': '40900'}, {'state_code': '06', 'county_code': '113', 'site_number': '1003', 'parameter_code': '81102', 'poc': 1, 'latitude': 38.66121, 'longitude': -121.73269, 'datum': 'WGS84', 'parameter': 'PM10 Total 0-10um STP', 'date_local': '2021-08-08', 'time_local': '00:00', 'date_gmt': '2021-08-08', 'time_gmt': '08:00', 'sample_measurement': 21.0, 'units_of_measure': 'Micrograms/cubic meter (25 C)', 'units_of_measure_code': '001', 'sample_duration': '24 HOUR', 'sample_duration_code': '7', 'sample_frequency': 'EVERY 6TH DAY', 'detection_limit': 2.0, 'uncertainty': None, 'qualifier': 'IT - Wildfire-U. S.', 'method_type': 'FRM', 'method': 'HI-VOL SA/GMW-1200 - GRAVIMETRIC', 'method_code': '063', 'state': 'California', 'county': 'Yolo', 'date_of_last_change': '2021-10-19', 'cbsa_code': '40900'}, {'state_code': '06', 'county_code': '113', 'site_number': '1003', 'parameter_code': '81102', 'poc': 1, 'latitude': 38.66121, 'longitude': -121.73269, 'datum': 'WGS84', 'parameter': 'PM10 Total 0-10um STP', 'date_local': '2021-08-02', 'time_local': '00:00', 'date_gmt': '2021-08-02', 'time_gmt': '08:00', 'sample_measurement': 17.0, 'units_of_measure': 'Micrograms/cubic meter (25 C)', 'units_of_measure_code': '001', 'sample_duration': '24 HOUR', 'sample_duration_code': '7', 'sample_frequency': 'EVERY 6TH DAY', 'detection_limit': 2.0, 'uncertainty': None, 'qualifier': None, 'method_type': 'FRM', 'method': 'HI-VOL SA/GMW-1200 - GRAVIMETRIC', 'method_code': '063', 'state': 'California', 'county': 'Yolo', 'date_of_last_change': '2021-10-19', 'cbsa_code': '40900'}, {'state_code': '06', 'county_code': '113', 'site_number': '1003', 'parameter_code': '81102', 'poc': 1, 'latitude': 38.66121, 'longitude': -121.73269, 'datum': 'WGS84', 'parameter': 'PM10 Total 0-10um STP', 'date_local': '2021-07-27', 'time_local': '00:02', 'date_gmt': '2021-07-27', 'time_gmt': '08:02', 'sample_measurement': 55.0, 'units_of_measure': 'Micrograms/cubic meter (25 C)', 'units_of_measure_code': '001', 'sample_duration': '24 HOUR', 'sample_duration_code': '7', 'sample_frequency': 'EVERY 6TH DAY', 'detection_limit': 2.0, 'uncertainty': None, 'qualifier': None, 'method_type': 'FRM', 'method': 'HI-VOL SA/GMW-1200 - GRAVIMETRIC', 'method_code': '063', 'state': 'California', 'county': 'Yolo', 'date_of_last_change': '2021-09-22', 'cbsa_code': '40900'}, {'state_code': '06', 'county_code': '113', 'site_number': '1003', 'parameter_code': '81102', 'poc': 1, 'latitude': 38.66121, 'longitude': -121.73269, 'datum': 'WGS84', 'parameter': 'PM10 Total 0-10um STP', 'date_local': '2021-07-21', 'time_local': '00:06', 'date_gmt': '2021-07-21', 'time_gmt': '08:06', 'sample_measurement': 24.0, 'units_of_measure': 'Micrograms/cubic meter (25 C)', 'units_of_measure_code': '001', 'sample_duration': '24 HOUR', 'sample_duration_code': '7', 'sample_frequency': 'EVERY 6TH DAY', 'detection_limit': 2.0, 'uncertainty': None, 'qualifier': 'IT - Wildfire-U. S.', 'method_type': 'FRM', 'method': 'HI-VOL SA/GMW-1200 - GRAVIMETRIC', 'method_code': '063', 'state': 'California', 'county': 'Yolo', 'date_of_last_change': '2021-09-22', 'cbsa_code': '40900'}, {'state_code': '06', 'county_code': '113', 'site_number': '1003', 'parameter_code': '81102', 'poc': 1, 'latitude': 38.66121, 'longitude': -121.73269, 'datum': 'WGS84', 'parameter': 'PM10 Total 0-10um STP', 'date_local': '2021-07-15', 'time_local': '00:12', 'date_gmt': '2021-07-15', 'time_gmt': '08:12', 'sample_measurement': 20.0, 'units_of_measure': 'Micrograms/cubic meter (25 C)', 'units_of_measure_code': '001', 'sample_duration': '24 HOUR', 'sample_duration_code': '7', 'sample_frequency': 'EVERY 6TH DAY', 'detection_limit': 2.0, 'uncertainty': None, 'qualifier': None, 'method_type': 'FRM', 'method': 'HI-VOL SA/GMW-1200 - GRAVIMETRIC', 'method_code': '063', 'state': 'California', 'county': 'Yolo', 'date_of_last_change': '2021-09-22', 'cbsa_code': '40900'}, {'state_code': '06', 'county_code': '113', 'site_number': '1003', 'parameter_code': '81102', 'poc': 1, 'latitude': 38.66121, 'longitude': -121.73269, 'datum': 'WGS84', 'parameter': 'PM10 Total 0-10um STP', 'date_local': '2021-07-09', 'time_local': '00:00', 'date_gmt': '2021-07-09', 'time_gmt': '08:00', 'sample_measurement': 28.0, 'units_of_measure': 'Micrograms/cubic meter (25 C)', 'units_of_measure_code': '001', 'sample_duration': '24 HOUR', 'sample_duration_code': '7', 'sample_frequency': 'EVERY 6TH DAY', 'detection_limit': 2.0, 'uncertainty': None, 'qualifier': None, 'method_type': 'FRM', 'method': 'HI-VOL SA/GMW-1200 - GRAVIMETRIC', 'method_code': '063', 'state': 'California', 'county': 'Yolo', 'date_of_last_change': '2021-09-22', 'cbsa_code': '40900'}, {'state_code': '06', 'county_code': '113', 'site_number': '1003', 'parameter_code': '81102', 'poc': 1, 'latitude': 38.66121, 'longitude': -121.73269, 'datum': 'WGS84', 'parameter': 'PM10 Total 0-10um STP', 'date_local': '2021-07-03', 'time_local': '00:09', 'date_gmt': '2021-07-03', 'time_gmt': '08:09', 'sample_measurement': 15.0, 'units_of_measure': 'Micrograms/cubic meter (25 C)', 'units_of_measure_code': '001', 'sample_duration': '24 HOUR', 'sample_duration_code': '7', 'sample_frequency': 'EVERY 6TH DAY', 'detection_limit': 2.0, 'uncertainty': None, 'qualifier': None, 'method_type': 'FRM', 'method': 'HI-VOL SA/GMW-1200 - GRAVIMETRIC', 'method_code': '063', 'state': 'California', 'county': 'Yolo', 'date_of_last_change': '2021-09-22', 'cbsa_code': '40900'}, {'state_code': '06', 'county_code': '113', 'site_number': '1003', 'parameter_code': '81102', 'poc': 1, 'latitude': 38.66121, 'longitude': -121.73269, 'datum': 'WGS84', 'parameter': 'PM10 Total 0-10um STP', 'date_local': '2021-06-27', 'time_local': '00:00', 'date_gmt': '2021-06-27', 'time_gmt': '08:00', 'sample_measurement': 12.0, 'units_of_measure': 'Micrograms/cubic meter (25 C)', 'units_of_measure_code': '001', 'sample_duration': '24 HOUR', 'sample_duration_code': '7', 'sample_frequency': 'EVERY 6TH DAY', 'detection_limit': 2.0, 'uncertainty': None, 'qualifier': None, 'method_type': 'FRM', 'method': 'HI-VOL SA/GMW-1200 - GRAVIMETRIC', 'method_code': '063', 'state': 'California', 'county': 'Yolo', 'date_of_last_change': '2021-08-16', 'cbsa_code': '40900'}, {'state_code': '06', 'county_code': '113', 'site_number': '1003', 'parameter_code': '81102', 'poc': 1, 'latitude': 38.66121, 'longitude': -121.73269, 'datum': 'WGS84', 'parameter': 'PM10 Total 0-10um STP', 'date_local': '2021-06-21', 'time_local': '00:10', 'date_gmt': '2021-06-21', 'time_gmt': '08:10', 'sample_measurement': 21.0, 'units_of_measure': 'Micrograms/cubic meter (25 C)', 'units_of_measure_code': '001', 'sample_duration': '24 HOUR', 'sample_duration_code': '7', 'sample_frequency': 'EVERY 6TH DAY', 'detection_limit': 2.0, 'uncertainty': None, 'qualifier': None, 'method_type': 'FRM', 'method': 'HI-VOL SA/GMW-1200 - GRAVIMETRIC', 'method_code': '063', 'state': 'California', 'county': 'Yolo', 'date_of_last_change': '2021-08-16', 'cbsa_code': '40900'}, {'state_code': '06', 'county_code': '113', 'site_number': '1003', 'parameter_code': '81102', 'poc': 1, 'latitude': 38.66121, 'longitude': -121.73269, 'datum': 'WGS84', 'parameter': 'PM10 Total 0-10um STP', 'date_local': '2021-06-15', 'time_local': '00:02', 'date_gmt': '2021-06-15', 'time_gmt': '08:02', 'sample_measurement': 13.0, 'units_of_measure': 'Micrograms/cubic meter (25 C)', 'units_of_measure_code': '001', 'sample_duration': '24 HOUR', 'sample_duration_code': '7', 'sample_frequency': 'EVERY 6TH DAY', 'detection_limit': 2.0, 'uncertainty': None, 'qualifier': None, 'method_type': 'FRM', 'method': 'HI-VOL SA/GMW-1200 - GRAVIMETRIC', 'method_code': '063', 'state': 'California', 'county': 'Yolo', 'date_of_last_change': '2021-08-16', 'cbsa_code': '40900'}, {'state_code': '06', 'county_code': '113', 'site_number': '1003', 'parameter_code': '81102', 'poc': 1, 'latitude': 38.66121, 'longitude': -121.73269, 'datum': 'WGS84', 'parameter': 'PM10 Total 0-10um STP', 'date_local': '2021-06-09', 'time_local': '00:02', 'date_gmt': '2021-06-09', 'time_gmt': '08:02', 'sample_measurement': 15.0, 'units_of_measure': 'Micrograms/cubic meter (25 C)', 'units_of_measure_code': '001', 'sample_duration': '24 HOUR', 'sample_duration_code': '7', 'sample_frequency': 'EVERY 6TH DAY', 'detection_limit': 2.0, 'uncertainty': None, 'qualifier': None, 'method_type': 'FRM', 'method': 'HI-VOL SA/GMW-1200 - GRAVIMETRIC', 'method_code': '063', 'state': 'California', 'county': 'Yolo', 'date_of_last_change': '2021-08-16', 'cbsa_code': '40900'}, {'state_code': '06', 'county_code': '113', 'site_number': '1003', 'parameter_code': '81102', 'poc': 1, 'latitude': 38.66121, 'longitude': -121.73269, 'datum': 'WGS84', 'parameter': 'PM10 Total 0-10um STP', 'date_local': '2021-06-03', 'time_local': '00:00', 'date_gmt': '2021-06-03', 'time_gmt': '08:00', 'sample_measurement': 20.0, 'units_of_measure': 'Micrograms/cubic meter (25 C)', 'units_of_measure_code': '001', 'sample_duration': '24 HOUR', 'sample_duration_code': '7', 'sample_frequency': 'EVERY 6TH DAY', 'detection_limit': 2.0, 'uncertainty': None, 'qualifier': None, 'method_type': 'FRM', 'method': 'HI-VOL SA/GMW-1200 - GRAVIMETRIC', 'method_code': '063', 'state': 'California', 'county': 'Yolo', 'date_of_last_change': '2021-08-16', 'cbsa_code': '40900'}, {'state_code': '06', 'county_code': '113', 'site_number': '1003', 'parameter_code': '81102', 'poc': 1, 'latitude': 38.66121, 'longitude': -121.73269, 'datum': 'WGS84', 'parameter': 'PM10 Total 0-10um STP', 'date_local': '2021-05-22', 'time_local': '00:02', 'date_gmt': '2021-05-22', 'time_gmt': '08:02', 'sample_measurement': 10.0, 'units_of_measure': 'Micrograms/cubic meter (25 C)', 'units_of_measure_code': '001', 'sample_duration': '24 HOUR', 'sample_duration_code': '7', 'sample_frequency': 'EVERY 6TH DAY', 'detection_limit': 2.0, 'uncertainty': None, 'qualifier': None, 'method_type': 'FRM', 'method': 'HI-VOL SA/GMW-1200 - GRAVIMETRIC', 'method_code': '063', 'state': 'California', 'county': 'Yolo', 'date_of_last_change': '2021-07-19', 'cbsa_code': '40900'}, {'state_code': '06', 'county_code': '113', 'site_number': '1003', 'parameter_code': '81102', 'poc': 1, 'latitude': 38.66121, 'longitude': -121.73269, 'datum': 'WGS84', 'parameter': 'PM10 Total 0-10um STP', 'date_local': '2021-05-16', 'time_local': '00:00', 'date_gmt': '2021-05-16', 'time_gmt': '08:00', 'sample_measurement': 15.0, 'units_of_measure': 'Micrograms/cubic meter (25 C)', 'units_of_measure_code': '001', 'sample_duration': '24 HOUR', 'sample_duration_code': '7', 'sample_frequency': 'EVERY 6TH DAY', 'detection_limit': 2.0, 'uncertainty': None, 'qualifier': None, 'method_type': 'FRM', 'method': 'HI-VOL SA/GMW-1200 - GRAVIMETRIC', 'method_code': '063', 'state': 'California', 'county': 'Yolo', 'date_of_last_change': '2021-07-19', 'cbsa_code': '40900'}, {'state_code': '06', 'county_code': '113', 'site_number': '1003', 'parameter_code': '81102', 'poc': 1, 'latitude': 38.66121, 'longitude': -121.73269, 'datum': 'WGS84', 'parameter': 'PM10 Total 0-10um STP', 'date_local': '2021-05-10', 'time_local': '00:00', 'date_gmt': '2021-05-10', 'time_gmt': '08:00', 'sample_measurement': 20.0, 'units_of_measure': 'Micrograms/cubic meter (25 C)', 'units_of_measure_code': '001', 'sample_duration': '24 HOUR', 'sample_duration_code': '7', 'sample_frequency': 'EVERY 6TH DAY', 'detection_limit': 2.0, 'uncertainty': None, 'qualifier': 'IJ - High Winds.', 'method_type': 'FRM', 'method': 'HI-VOL SA/GMW-1200 - GRAVIMETRIC', 'method_code': '063', 'state': 'California', 'county': 'Yolo', 'date_of_last_change': '2021-07-19', 'cbsa_code': '40900'}, {'state_code': '06', 'county_code': '113', 'site_number': '1003', 'parameter_code': '81102', 'poc': 1, 'latitude': 38.66121, 'longitude': -121.73269, 'datum': 'WGS84', 'parameter': 'PM10 Total 0-10um STP', 'date_local': '2021-05-04', 'time_local': '00:00', 'date_gmt': '2021-05-04', 'time_gmt': '08:00', 'sample_measurement': 23.0, 'units_of_measure': 'Micrograms/cubic meter (25 C)', 'units_of_measure_code': '001', 'sample_duration': '24 HOUR', 'sample_duration_code': '7', 'sample_frequency': 'EVERY 6TH DAY', 'detection_limit': 2.0, 'uncertainty': None, 'qualifier': None, 'method_type': 'FRM', 'method': 'HI-VOL SA/GMW-1200 - GRAVIMETRIC', 'method_code': '063', 'state': 'California', 'county': 'Yolo', 'date_of_last_change': '2021-07-19', 'cbsa_code': '40900'}, {'state_code': '06', 'county_code': '113', 'site_number': '1003', 'parameter_code': '81102', 'poc': 1, 'latitude': 38.66121, 'longitude': -121.73269, 'datum': 'WGS84', 'parameter': 'PM10 Total 0-10um STP', 'date_local': '2021-04-28', 'time_local': '00:00', 'date_gmt': '2021-04-28', 'time_gmt': '08:00', 'sample_measurement': 19.0, 'units_of_measure': 'Micrograms/cubic meter (25 C)', 'units_of_measure_code': '001', 'sample_duration': '24 HOUR', 'sample_duration_code': '7', 'sample_frequency': 'EVERY 6TH DAY', 'detection_limit': 2.0, 'uncertainty': None, 'qualifier': None, 'method_type': 'FRM', 'method': 'HI-VOL SA/GMW-1200 - GRAVIMETRIC', 'method_code': '063', 'state': 'California', 'county': 'Yolo', 'date_of_last_change': '2021-06-23', 'cbsa_code': '40900'}, {'state_code': '06', 'county_code': '113', 'site_number': '1003', 'parameter_code': '81102', 'poc': 1, 'latitude': 38.66121, 'longitude': -121.73269, 'datum': 'WGS84', 'parameter': 'PM10 Total 0-10um STP', 'date_local': '2021-04-22', 'time_local': '00:00', 'date_gmt': '2021-04-22', 'time_gmt': '08:00', 'sample_measurement': 26.0, 'units_of_measure': 'Micrograms/cubic meter (25 C)', 'units_of_measure_code': '001', 'sample_duration': '24 HOUR', 'sample_duration_code': '7', 'sample_frequency': 'EVERY 6TH DAY', 'detection_limit': 2.0, 'uncertainty': None, 'qualifier': None, 'method_type': 'FRM', 'method': 'HI-VOL SA/GMW-1200 - GRAVIMETRIC', 'method_code': '063', 'state': 'California', 'county': 'Yolo', 'date_of_last_change': '2021-06-23', 'cbsa_code': '40900'}, {'state_code': '06', 'county_code': '113', 'site_number': '1003', 'parameter_code': '81102', 'poc': 1, 'latitude': 38.66121, 'longitude': -121.73269, 'datum': 'WGS84', 'parameter': 'PM10 Total 0-10um STP', 'date_local': '2021-04-16', 'time_local': '00:13', 'date_gmt': '2021-04-16', 'time_gmt': '08:13', 'sample_measurement': 25.0, 'units_of_measure': 'Micrograms/cubic meter (25 C)', 'units_of_measure_code': '001', 'sample_duration': '24 HOUR', 'sample_duration_code': '7', 'sample_frequency': 'EVERY 6TH DAY', 'detection_limit': 2.0, 'uncertainty': None, 'qualifier': None, 'method_type': 'FRM', 'method': 'HI-VOL SA/GMW-1200 - GRAVIMETRIC', 'method_code': '063', 'state': 'California', 'county': 'Yolo', 'date_of_last_change': '2021-06-23', 'cbsa_code': '40900'}, {'state_code': '06', 'county_code': '113', 'site_number': '1003', 'parameter_code': '81102', 'poc': 1, 'latitude': 38.66121, 'longitude': -121.73269, 'datum': 'WGS84', 'parameter': 'PM10 Total 0-10um STP', 'date_local': '2021-04-10', 'time_local': '00:13', 'date_gmt': '2021-04-10', 'time_gmt': '08:13', 'sample_measurement': 19.0, 'units_of_measure': 'Micrograms/cubic meter (25 C)', 'units_of_measure_code': '001', 'sample_duration': '24 HOUR', 'sample_duration_code': '7', 'sample_frequency': 'EVERY 6TH DAY', 'detection_limit': 2.0, 'uncertainty': None, 'qualifier': None, 'method_type': 'FRM', 'method': 'HI-VOL SA/GMW-1200 - GRAVIMETRIC', 'method_code': '063', 'state': 'California', 'county': 'Yolo', 'date_of_last_change': '2021-06-23', 'cbsa_code': '40900'}, {'state_code': '06', 'county_code': '113', 'site_number': '1003', 'parameter_code': '81102', 'poc': 1, 'latitude': 38.66121, 'longitude': -121.73269, 'datum': 'WGS84', 'parameter': 'PM10 Total 0-10um STP', 'date_local': '2021-04-04', 'time_local': '00:00', 'date_gmt': '2021-04-04', 'time_gmt': '08:00', 'sample_measurement': 12.0, 'units_of_measure': 'Micrograms/cubic meter (25 C)', 'units_of_measure_code': '001', 'sample_duration': '24 HOUR', 'sample_duration_code': '7', 'sample_frequency': 'EVERY 6TH DAY', 'detection_limit': 2.0, 'uncertainty': None, 'qualifier': None, 'method_type': 'FRM', 'method': 'HI-VOL SA/GMW-1200 - GRAVIMETRIC', 'method_code': '063', 'state': 'California', 'county': 'Yolo', 'date_of_last_change': '2021-06-23', 'cbsa_code': '40900'}, {'state_code': '06', 'county_code': '113', 'site_number': '1003', 'parameter_code': '81102', 'poc': 1, 'latitude': 38.66121, 'longitude': -121.73269, 'datum': 'WGS84', 'parameter': 'PM10 Total 0-10um STP', 'date_local': '2021-03-29', 'time_local': '00:01', 'date_gmt': '2021-03-29', 'time_gmt': '08:01', 'sample_measurement': 21.0, 'units_of_measure': 'Micrograms/cubic meter (25 C)', 'units_of_measure_code': '001', 'sample_duration': '24 HOUR', 'sample_duration_code': '7', 'sample_frequency': 'EVERY 6TH DAY', 'detection_limit': 2.0, 'uncertainty': None, 'qualifier': 'IJ - High Winds.', 'method_type': 'FRM', 'method': 'HI-VOL SA/GMW-1200 - GRAVIMETRIC', 'method_code': '063', 'state': 'California', 'county': 'Yolo', 'date_of_last_change': '2021-06-08', 'cbsa_code': '40900'}, {'state_code': '06', 'county_code': '113', 'site_number': '1003', 'parameter_code': '81102', 'poc': 1, 'latitude': 38.66121, 'longitude': -121.73269, 'datum': 'WGS84', 'parameter': 'PM10 Total 0-10um STP', 'date_local': '2021-03-23', 'time_local': '00:15', 'date_gmt': '2021-03-23', 'time_gmt': '08:15', 'sample_measurement': 9.0, 'units_of_measure': 'Micrograms/cubic meter (25 C)', 'units_of_measure_code': '001', 'sample_duration': '24 HOUR', 'sample_duration_code': '7', 'sample_frequency': 'EVERY 6TH DAY', 'detection_limit': 2.0, 'uncertainty': None, 'qualifier': 'IJ - High Winds.', 'method_type': 'FRM', 'method': 'HI-VOL SA/GMW-1200 - GRAVIMETRIC', 'method_code': '063', 'state': 'California', 'county': 'Yolo', 'date_of_last_change': '2021-06-08', 'cbsa_code': '40900'}, {'state_code': '06', 'county_code': '113', 'site_number': '1003', 'parameter_code': '81102', 'poc': 1, 'latitude': 38.66121, 'longitude': -121.73269, 'datum': 'WGS84', 'parameter': 'PM10 Total 0-10um STP', 'date_local': '2021-03-17', 'time_local': '00:01', 'date_gmt': '2021-03-17', 'time_gmt': '08:01', 'sample_measurement': 11.0, 'units_of_measure': 'Micrograms/cubic meter (25 C)', 'units_of_measure_code': '001', 'sample_duration': '24 HOUR', 'sample_duration_code': '7', 'sample_frequency': 'EVERY 6TH DAY', 'detection_limit': 2.0, 'uncertainty': None, 'qualifier': None, 'method_type': 'FRM', 'method': 'HI-VOL SA/GMW-1200 - GRAVIMETRIC', 'method_code': '063', 'state': 'California', 'county': 'Yolo', 'date_of_last_change': '2021-06-08', 'cbsa_code': '40900'}, {'state_code': '06', 'county_code': '113', 'site_number': '1003', 'parameter_code': '81102', 'poc': 1, 'latitude': 38.66121, 'longitude': -121.73269, 'datum': 'WGS84', 'parameter': 'PM10 Total 0-10um STP', 'date_local': '2021-03-11', 'time_local': '00:00', 'date_gmt': '2021-03-11', 'time_gmt': '08:00', 'sample_measurement': 4.0, 'units_of_measure': 'Micrograms/cubic meter (25 C)', 'units_of_measure_code': '001', 'sample_duration': '24 HOUR', 'sample_duration_code': '7', 'sample_frequency': 'EVERY 6TH DAY', 'detection_limit': 2.0, 'uncertainty': None, 'qualifier': None, 'method_type': 'FRM', 'method': 'HI-VOL SA/GMW-1200 - GRAVIMETRIC', 'method_code': '063', 'state': 'California', 'county': 'Yolo', 'date_of_last_change': '2021-06-08', 'cbsa_code': '40900'}, {'state_code': '06', 'county_code': '113', 'site_number': '1003', 'parameter_code': '81102', 'poc': 1, 'latitude': 38.66121, 'longitude': -121.73269, 'datum': 'WGS84', 'parameter': 'PM10 Total 0-10um STP', 'date_local': '2021-03-05', 'time_local': '00:00', 'date_gmt': '2021-03-05', 'time_gmt': '08:00', 'sample_measurement': 9.0, 'units_of_measure': 'Micrograms/cubic meter (25 C)', 'units_of_measure_code': '001', 'sample_duration': '24 HOUR', 'sample_duration_code': '7', 'sample_frequency': 'EVERY 6TH DAY', 'detection_limit': 2.0, 'uncertainty': None, 'qualifier': None, 'method_type': 'FRM', 'method': 'HI-VOL SA/GMW-1200 - GRAVIMETRIC', 'method_code': '063', 'state': 'California', 'county': 'Yolo', 'date_of_last_change': '2021-06-08', 'cbsa_code': '40900'}, {'state_code': '06', 'county_code': '113', 'site_number': '1003', 'parameter_code': '81102', 'poc': 1, 'latitude': 38.66121, 'longitude': -121.73269, 'datum': 'WGS84', 'parameter': 'PM10 Total 0-10um STP', 'date_local': '2021-03-03', 'time_local': '00:14', 'date_gmt': '2021-03-03', 'time_gmt': '08:14', 'sample_measurement': 20.0, 'units_of_measure': 'Micrograms/cubic meter (25 C)', 'units_of_measure_code': '001', 'sample_duration': '24 HOUR', 'sample_duration_code': '7', 'sample_frequency': 'EVERY 6TH DAY', 'detection_limit': 2.0, 'uncertainty': None, 'qualifier': None, 'method_type': 'FRM', 'method': 'HI-VOL SA/GMW-1200 - GRAVIMETRIC', 'method_code': '063', 'state': 'California', 'county': 'Yolo', 'date_of_last_change': '2021-06-08', 'cbsa_code': '40900'}, {'state_code': '06', 'county_code': '113', 'site_number': '1003', 'parameter_code': '81102', 'poc': 1, 'latitude': 38.66121, 'longitude': -121.73269, 'datum': 'WGS84', 'parameter': 'PM10 Total 0-10um STP', 'date_local': '2021-02-28', 'time_local': '00:01', 'date_gmt': '2021-02-28', 'time_gmt': '08:01', 'sample_measurement': 6.0, 'units_of_measure': 'Micrograms/cubic meter (25 C)', 'units_of_measure_code': '001', 'sample_duration': '24 HOUR', 'sample_duration_code': '7', 'sample_frequency': 'EVERY 6TH DAY', 'detection_limit': 2.0, 'uncertainty': None, 'qualifier': None, 'method_type': 'FRM', 'method': 'HI-VOL SA/GMW-1200 - GRAVIMETRIC', 'method_code': '063', 'state': 'California', 'county': 'Yolo', 'date_of_last_change': '2021-05-05', 'cbsa_code': '40900'}, {'state_code': '06', 'county_code': '113', 'site_number': '1003', 'parameter_code': '81102', 'poc': 1, 'latitude': 38.66121, 'longitude': -121.73269, 'datum': 'WGS84', 'parameter': 'PM10 Total 0-10um STP', 'date_local': '2021-02-21', 'time_local': '00:01', 'date_gmt': '2021-02-21', 'time_gmt': '08:01', 'sample_measurement': None, 'units_of_measure': 'Micrograms/cubic meter (25 C)', 'units_of_measure_code': '001', 'sample_duration': '24 HOUR', 'sample_duration_code': '7', 'sample_frequency': 'EVERY 6TH DAY', 'detection_limit': 2.0, 'uncertainty': None, 'qualifier': 'AN - Machine Malfunction.', 'method_type': 'FRM', 'method': 'HI-VOL SA/GMW-1200 - GRAVIMETRIC', 'method_code': '063', 'state': 'California', 'county': 'Yolo', 'date_of_last_change': '2021-05-05', 'cbsa_code': '40900'}, {'state_code': '06', 'county_code': '113', 'site_number': '1003', 'parameter_code': '81102', 'poc': 1, 'latitude': 38.66121, 'longitude': -121.73269, 'datum': 'WGS84', 'parameter': 'PM10 Total 0-10um STP', 'date_local': '2021-02-15', 'time_local': '00:01', 'date_gmt': '2021-02-15', 'time_gmt': '08:01', 'sample_measurement': 3.0, 'units_of_measure': 'Micrograms/cubic meter (25 C)', 'units_of_measure_code': '001', 'sample_duration': '24 HOUR', 'sample_duration_code': '7', 'sample_frequency': 'EVERY 6TH DAY', 'detection_limit': 2.0, 'uncertainty': None, 'qualifier': None, 'method_type': 'FRM', 'method': 'HI-VOL SA/GMW-1200 - GRAVIMETRIC', 'method_code': '063', 'state': 'California', 'county': 'Yolo', 'date_of_last_change': '2021-05-05', 'cbsa_code': '40900'}, {'state_code': '06', 'county_code': '113', 'site_number': '1003', 'parameter_code': '81102', 'poc': 1, 'latitude': 38.66121, 'longitude': -121.73269, 'datum': 'WGS84', 'parameter': 'PM10 Total 0-10um STP', 'date_local': '2021-02-09', 'time_local': '00:14', 'date_gmt': '2021-02-09', 'time_gmt': '08:14', 'sample_measurement': 20.0, 'units_of_measure': 'Micrograms/cubic meter (25 C)', 'units_of_measure_code': '001', 'sample_duration': '24 HOUR', 'sample_duration_code': '7', 'sample_frequency': 'EVERY 6TH DAY', 'detection_limit': 2.0, 'uncertainty': None, 'qualifier': None, 'method_type': 'FRM', 'method': 'HI-VOL SA/GMW-1200 - GRAVIMETRIC', 'method_code': '063', 'state': 'California', 'county': 'Yolo', 'date_of_last_change': '2021-05-05', 'cbsa_code': '40900'}, {'state_code': '06', 'county_code': '113', 'site_number': '1003', 'parameter_code': '81102', 'poc': 1, 'latitude': 38.66121, 'longitude': -121.73269, 'datum': 'WGS84', 'parameter': 'PM10 Total 0-10um STP', 'date_local': '2021-02-03', 'time_local': '00:03', 'date_gmt': '2021-02-03', 'time_gmt': '08:03', 'sample_measurement': 4.0, 'units_of_measure': 'Micrograms/cubic meter (25 C)', 'units_of_measure_code': '001', 'sample_duration': '24 HOUR', 'sample_duration_code': '7', 'sample_frequency': 'EVERY 6TH DAY', 'detection_limit': 2.0, 'uncertainty': None, 'qualifier': None, 'method_type': 'FRM', 'method': 'HI-VOL SA/GMW-1200 - GRAVIMETRIC', 'method_code': '063', 'state': 'California', 'county': 'Yolo', 'date_of_last_change': '2021-05-05', 'cbsa_code': '40900'}, {'state_code': '06', 'county_code': '113', 'site_number': '1003', 'parameter_code': '81102', 'poc': 1, 'latitude': 38.66121, 'longitude': -121.73269, 'datum': 'WGS84', 'parameter': 'PM10 Total 0-10um STP', 'date_local': '2021-01-28', 'time_local': '00:03', 'date_gmt': '2021-01-28', 'time_gmt': '08:03', 'sample_measurement': 4.0, 'units_of_measure': 'Micrograms/cubic meter (25 C)', 'units_of_measure_code': '001', 'sample_duration': '24 HOUR', 'sample_duration_code': '7', 'sample_frequency': 'EVERY 6TH DAY', 'detection_limit': 2.0, 'uncertainty': None, 'qualifier': 'IJ - High Winds.', 'method_type': 'FRM', 'method': 'HI-VOL SA/GMW-1200 - GRAVIMETRIC', 'method_code': '063', 'state': 'California', 'county': 'Yolo', 'date_of_last_change': '2021-05-26', 'cbsa_code': '40900'}, {'state_code': '06', 'county_code': '113', 'site_number': '1003', 'parameter_code': '81102', 'poc': 1, 'latitude': 38.66121, 'longitude': -121.73269, 'datum': 'WGS84', 'parameter': 'PM10 Total 0-10um STP', 'date_local': '2021-01-22', 'time_local': '00:10', 'date_gmt': '2021-01-22', 'time_gmt': '08:10', 'sample_measurement': 9.0, 'units_of_measure': 'Micrograms/cubic meter (25 C)', 'units_of_measure_code': '001', 'sample_duration': '24 HOUR', 'sample_duration_code': '7', 'sample_frequency': 'EVERY 6TH DAY', 'detection_limit': 2.0, 'uncertainty': None, 'qualifier': None, 'method_type': 'FRM', 'method': 'HI-VOL SA/GMW-1200 - GRAVIMETRIC', 'method_code': '063', 'state': 'California', 'county': 'Yolo', 'date_of_last_change': '2021-05-26', 'cbsa_code': '40900'}, {'state_code': '06', 'county_code': '113', 'site_number': '1003', 'parameter_code': '81102', 'poc': 1, 'latitude': 38.66121, 'longitude': -121.73269, 'datum': 'WGS84', 'parameter': 'PM10 Total 0-10um STP', 'date_local': '2021-01-16', 'time_local': '00:12', 'date_gmt': '2021-01-16', 'time_gmt': '08:12', 'sample_measurement': 12.0, 'units_of_measure': 'Micrograms/cubic meter (25 C)', 'units_of_measure_code': '001', 'sample_duration': '24 HOUR', 'sample_duration_code': '7', 'sample_frequency': 'EVERY 6TH DAY', 'detection_limit': 2.0, 'uncertainty': None, 'qualifier': None, 'method_type': 'FRM', 'method': 'HI-VOL SA/GMW-1200 - GRAVIMETRIC', 'method_code': '063', 'state': 'California', 'county': 'Yolo', 'date_of_last_change': '2021-05-26', 'cbsa_code': '40900'}, {'state_code': '06', 'county_code': '113', 'site_number': '1003', 'parameter_code': '81102', 'poc': 1, 'latitude': 38.66121, 'longitude': -121.73269, 'datum': 'WGS84', 'parameter': 'PM10 Total 0-10um STP', 'date_local': '2021-01-10', 'time_local': '00:01', 'date_gmt': '2021-01-10', 'time_gmt': '08:01', 'sample_measurement': 15.0, 'units_of_measure': 'Micrograms/cubic meter (25 C)', 'units_of_measure_code': '001', 'sample_duration': '24 HOUR', 'sample_duration_code': '7', 'sample_frequency': 'EVERY 6TH DAY', 'detection_limit': 2.0, 'uncertainty': None, 'qualifier': None, 'method_type': 'FRM', 'method': 'HI-VOL SA/GMW-1200 - GRAVIMETRIC', 'method_code': '063', 'state': 'California', 'county': 'Yolo', 'date_of_last_change': '2021-05-26', 'cbsa_code': '40900'}, {'state_code': '06', 'county_code': '113', 'site_number': '1003', 'parameter_code': '81102', 'poc': 1, 'latitude': 38.66121, 'longitude': -121.73269, 'datum': 'WGS84', 'parameter': 'PM10 Total 0-10um STP', 'date_local': '2021-01-04', 'time_local': '00:03', 'date_gmt': '2021-01-04', 'time_gmt': '08:03', 'sample_measurement': 9.0, 'units_of_measure': 'Micrograms/cubic meter (25 C)', 'units_of_measure_code': '001', 'sample_duration': '24 HOUR', 'sample_duration_code': '7', 'sample_frequency': 'EVERY 6TH DAY', 'detection_limit': 2.0, 'uncertainty': None, 'qualifier': None, 'method_type': 'FRM', 'method': 'HI-VOL SA/GMW-1200 - GRAVIMETRIC', 'method_code': '063', 'state': 'California', 'county': 'Yolo', 'date_of_last_change': '2021-05-26', 'cbsa_code': '40900'}]}\n"
     ]
    }
   ],
   "source": [
    "#Woodland PM 10#\n",
    "# To build the call\n",
    "# For one site, one year\n",
    "url='https://aqs.epa.gov/data/api/sampleData/bySite?email='+my_email+'&key='+my_key+'&param=81102&bdate=20210101&edate=20211231&state=06&county=113&site=1003'\n",
    "\n",
    "print(url)\n",
    "r = requests.get(url)\n",
    "data_raw = r.json()\n",
    "print(data_raw)"
   ]
  },
  {
   "cell_type": "code",
   "execution_count": 116,
   "metadata": {},
   "outputs": [
    {
     "name": "stdout",
     "output_type": "stream",
     "text": [
      "https://aqs.epa.gov/data/api/sampleData/bySite?email=laarterb@syr.edu&key=rubyswift75&param=88101&bdate=20130101&edate=20131231&state=06&county=113&site=1003\n",
      "https://aqs.epa.gov/data/api/sampleData/bySite?email=laarterb@syr.edu&key=rubyswift75&param=88101&bdate=20140101&edate=20141231&state=06&county=113&site=1003\n",
      "https://aqs.epa.gov/data/api/sampleData/bySite?email=laarterb@syr.edu&key=rubyswift75&param=88101&bdate=20150101&edate=20151231&state=06&county=113&site=1003\n",
      "https://aqs.epa.gov/data/api/sampleData/bySite?email=laarterb@syr.edu&key=rubyswift75&param=88101&bdate=20160101&edate=20161231&state=06&county=113&site=1003\n",
      "https://aqs.epa.gov/data/api/sampleData/bySite?email=laarterb@syr.edu&key=rubyswift75&param=88101&bdate=20170101&edate=20171231&state=06&county=113&site=1003\n",
      "https://aqs.epa.gov/data/api/sampleData/bySite?email=laarterb@syr.edu&key=rubyswift75&param=88101&bdate=20180101&edate=20181231&state=06&county=113&site=1003\n",
      "https://aqs.epa.gov/data/api/sampleData/bySite?email=laarterb@syr.edu&key=rubyswift75&param=88101&bdate=20190101&edate=20191231&state=06&county=113&site=1003\n",
      "https://aqs.epa.gov/data/api/sampleData/bySite?email=laarterb@syr.edu&key=rubyswift75&param=88101&bdate=20200101&edate=20201231&state=06&county=113&site=1003\n",
      "https://aqs.epa.gov/data/api/sampleData/bySite?email=laarterb@syr.edu&key=rubyswift75&param=88101&bdate=20210101&edate=20211231&state=06&county=113&site=1003\n"
     ]
    }
   ],
   "source": [
    "#Woodland PM 2.5#\n",
    "# Example to loop through years AND save the data as a csv file:\n",
    "CA_Woodland_PM25='C:/Users/larterburn/Python Notebooks/aqs_site_06-113-1003_88101.csv'  \n",
    "fields=['datetime_local','sample_measurement','latitude','longitude'] \n",
    "\n",
    "with open(CA_Woodland_PM25, 'wb') as csvfile: \n",
    "    csvwriter = csv.writer(csvfile) \n",
    "    csvwriter.writerow(fields) \n",
    "    for y in yearlist:\n",
    "        bdate = y+'0101'\n",
    "        edate = y+'1231'\n",
    "        url='https://aqs.epa.gov/data/api/sampleData/bySite?email='+my_email+'&key='+my_key+'&param=88101&bdate='+bdate+'&edate='+edate+'&state=06&county=113&site=1003'\n",
    "        print (url)\n",
    "        r = requests.get(url)\n",
    "        data_raw = r.json()\n",
    "        if (data_raw[\"Header\"][0][\"rows\"] != 0):\n",
    "         nrows=data_raw[\"Header\"][0][\"rows\"]\n",
    "         for x in range(0,nrows):\n",
    "            temprow=[(data_raw[\"Data\"][x][\"date_local\"]+' '+data_raw[\"Data\"][x][\"time_local\"]),\\\n",
    "                     data_raw[\"Data\"][x][\"sample_measurement\"],data_raw[\"Data\"][x][\"latitude\"],\\\n",
    "                     data_raw[\"Data\"][x][\"longitude\"]]\n",
    "            csvwriter.writerow(temprow)\n"
   ]
  },
  {
   "cell_type": "code",
   "execution_count": 117,
   "metadata": {},
   "outputs": [
    {
     "name": "stdout",
     "output_type": "stream",
     "text": [
      "https://aqs.epa.gov/data/api/sampleData/bySite?email=laarterb@syr.edu&key=rubyswift75&param=81102&bdate=20130101&edate=20131231&state=06&county=113&site=1003\n",
      "https://aqs.epa.gov/data/api/sampleData/bySite?email=laarterb@syr.edu&key=rubyswift75&param=81102&bdate=20140101&edate=20141231&state=06&county=113&site=1003\n",
      "https://aqs.epa.gov/data/api/sampleData/bySite?email=laarterb@syr.edu&key=rubyswift75&param=81102&bdate=20150101&edate=20151231&state=06&county=113&site=1003\n",
      "https://aqs.epa.gov/data/api/sampleData/bySite?email=laarterb@syr.edu&key=rubyswift75&param=81102&bdate=20160101&edate=20161231&state=06&county=113&site=1003\n",
      "https://aqs.epa.gov/data/api/sampleData/bySite?email=laarterb@syr.edu&key=rubyswift75&param=81102&bdate=20170101&edate=20171231&state=06&county=113&site=1003\n",
      "https://aqs.epa.gov/data/api/sampleData/bySite?email=laarterb@syr.edu&key=rubyswift75&param=81102&bdate=20180101&edate=20181231&state=06&county=113&site=1003\n",
      "https://aqs.epa.gov/data/api/sampleData/bySite?email=laarterb@syr.edu&key=rubyswift75&param=81102&bdate=20190101&edate=20191231&state=06&county=113&site=1003\n",
      "https://aqs.epa.gov/data/api/sampleData/bySite?email=laarterb@syr.edu&key=rubyswift75&param=81102&bdate=20200101&edate=20201231&state=06&county=113&site=1003\n",
      "https://aqs.epa.gov/data/api/sampleData/bySite?email=laarterb@syr.edu&key=rubyswift75&param=81102&bdate=20210101&edate=20211231&state=06&county=113&site=1003\n"
     ]
    }
   ],
   "source": [
    "#Woodland PM 10#\n",
    "# Example to loop through years AND save the data as a csv file:\n",
    "CA_Woodland_PM10='C:/Users/larterburn/Python Notebooks/aqs_site_06-113-1003_81102.csv'  \n",
    "fields=['datetime_local','sample_measurement','latitude','longitude'] \n",
    "\n",
    "with open(CA_Woodland_PM10, 'wb') as csvfile: \n",
    "    csvwriter = csv.writer(csvfile) \n",
    "    csvwriter.writerow(fields) \n",
    "    for y in yearlist:\n",
    "        bdate = y+'0101'\n",
    "        edate = y+'1231'\n",
    "        url='https://aqs.epa.gov/data/api/sampleData/bySite?email='+my_email+'&key='+my_key+'&param=81102&bdate='+bdate+'&edate='+edate+'&state=06&county=113&site=1003'\n",
    "        print (url)\n",
    "        r = requests.get(url)\n",
    "        data_raw = r.json()\n",
    "        if (data_raw[\"Header\"][0][\"rows\"] != 0):\n",
    "         nrows=data_raw[\"Header\"][0][\"rows\"]\n",
    "         for x in range(0,nrows):\n",
    "            temprow=[(data_raw[\"Data\"][x][\"date_local\"]+' '+data_raw[\"Data\"][x][\"time_local\"]),\\\n",
    "                     data_raw[\"Data\"][x][\"sample_measurement\"],data_raw[\"Data\"][x][\"latitude\"],\\\n",
    "                     data_raw[\"Data\"][x][\"longitude\"]]\n",
    "            csvwriter.writerow(temprow)\n"
   ]
  },
  {
   "cell_type": "code",
   "execution_count": null,
   "metadata": {},
   "outputs": [],
   "source": []
  },
  {
   "cell_type": "code",
   "execution_count": null,
   "metadata": {},
   "outputs": [],
   "source": []
  }
 ],
 "metadata": {
  "kernelspec": {
   "display_name": "Python 3",
   "language": "python",
   "name": "python3"
  },
  "language_info": {
   "codemirror_mode": {
    "name": "ipython",
    "version": 3
   },
   "file_extension": ".py",
   "mimetype": "text/x-python",
   "name": "python",
   "nbconvert_exporter": "python",
   "pygments_lexer": "ipython3",
   "version": "3.7.0"
  }
 },
 "nbformat": 4,
 "nbformat_minor": 2
}
